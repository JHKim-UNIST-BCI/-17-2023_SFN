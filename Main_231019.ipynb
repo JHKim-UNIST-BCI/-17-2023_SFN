{
 "cells": [
  {
   "cell_type": "code",
   "execution_count": 5,
   "metadata": {},
   "outputs": [
    {
     "data": {
      "text/plain": [
       "tensor([0., 0., 0., 0., 0.])"
      ]
     },
     "execution_count": 5,
     "metadata": {},
     "output_type": "execute_result"
    }
   ],
   "source": [
    "import torch\n",
    "import torch.nn as nn\n",
    "\n",
    "class IzhikevichLayer(nn.Module):\n",
    "    def __init__(self, size, a=0.02, b=0.2, c=-65, d=8, dt=1.0):\n",
    "        super(IzhikevichLayer, self).__init__()\n",
    "        \n",
    "        # Izhikevich parameters\n",
    "        self.a = a\n",
    "        self.b = b\n",
    "        self.c = c\n",
    "        self.d = d\n",
    "        self.dt = dt\n",
    "        self.size = size\n",
    "        \n",
    "        # Initial values for v and u\n",
    "        self.v = torch.full((self.size,), self.c, dtype=torch.float32)\n",
    "        self.u = torch.full((self.size,), self.b * self.c, dtype=torch.float32)\n",
    "        \n",
    "    def forward(self, I):\n",
    "        # Izhikevich equations for a layer of neurons\n",
    "        dv = (0.04 * self.v ** 2 + 5 * self.v + 140 - self.u + I) * self.dt\n",
    "        du = (self.a * (self.b * self.v - self.u)) * self.dt\n",
    "        \n",
    "        self.v += dv\n",
    "        self.u += du\n",
    "        \n",
    "        # Record spikes\n",
    "        spikes = (self.v >= 30).float()\n",
    "        \n",
    "        # If the neurons fire\n",
    "        self.v[self.v >= 30] = self.c\n",
    "        self.u[self.v >= 30] += self.d\n",
    "        \n",
    "        return spikes\n",
    "\n",
    "class SNN(nn.Module):\n",
    "    def __init__(self,input_size=10):\n",
    "        super(SNN, self).__init__()\n",
    "        self.layer1 = IzhikevichLayer(size=input_size)  # 10 neurons\n",
    "        self.weight = nn.Parameter(torch.randn(input_size, 5))  # Weight matrix to transform spikes from 10 to 5 neurons\n",
    "        self.layer2 = IzhikevichLayer(size=5)   # 5 neurons\n",
    "        \n",
    "    def forward(self, I):\n",
    "        spikes1 = self.layer1(I)\n",
    "        \n",
    "        # Using a weight matrix to project spikes from the first layer to the second layer\n",
    "        projected_spikes = torch.matmul(spikes1.unsqueeze(0), self.weight).squeeze()\n",
    "        \n",
    "        spikes2 = self.layer2(projected_spikes)\n",
    "        \n",
    "        return spikes2\n",
    "    \n",
    "# Test the new network\n",
    "network_direct_spikes = SNN()\n",
    "output_direct_spikes = network_direct_spikes(torch.full((10,), 10.0))  # Apply input current of 10 to each neuron in the first layer\n",
    "\n",
    "output_direct_spikes"
   ]
  },
  {
   "cell_type": "code",
   "execution_count": 7,
   "metadata": {},
   "outputs": [
    {
     "ename": "TypeError",
     "evalue": "edge_stim() got an unexpected keyword argument 'angle'",
     "output_type": "error",
     "traceback": [
      "\u001b[1;31m---------------------------------------------------------------------------\u001b[0m",
      "\u001b[1;31mTypeError\u001b[0m                                 Traceback (most recent call last)",
      "\u001b[1;32m<ipython-input-7-568b74b2a9f9>\u001b[0m in \u001b[0;36m<module>\u001b[1;34m\u001b[0m\n\u001b[0;32m      9\u001b[0m \u001b[1;33m\u001b[0m\u001b[0m\n\u001b[0;32m     10\u001b[0m \u001b[1;31m# Generate the visual stimuli again\u001b[0m\u001b[1;33m\u001b[0m\u001b[1;33m\u001b[0m\u001b[1;33m\u001b[0m\u001b[0m\n\u001b[1;32m---> 11\u001b[1;33m \u001b[0mstimulation\u001b[0m \u001b[1;33m=\u001b[0m \u001b[0medge_stim\u001b[0m\u001b[1;33m(\u001b[0m\u001b[0mangle\u001b[0m\u001b[1;33m=\u001b[0m\u001b[1;36m45\u001b[0m\u001b[1;33m,\u001b[0m \u001b[0mnum_stim\u001b[0m\u001b[1;33m=\u001b[0m\u001b[1;36m1\u001b[0m\u001b[1;33m,\u001b[0m \u001b[0mpixel_h\u001b[0m\u001b[1;33m=\u001b[0m\u001b[1;36m320\u001b[0m\u001b[1;33m,\u001b[0m \u001b[0mpixel_w\u001b[0m\u001b[1;33m=\u001b[0m\u001b[1;36m240\u001b[0m\u001b[1;33m,\u001b[0m \u001b[0mplot_stimuli\u001b[0m\u001b[1;33m=\u001b[0m\u001b[1;32mTrue\u001b[0m\u001b[1;33m)\u001b[0m\u001b[1;33m\u001b[0m\u001b[1;33m\u001b[0m\u001b[0m\n\u001b[0m\u001b[0;32m     12\u001b[0m \u001b[1;33m\u001b[0m\u001b[0m\n\u001b[0;32m     13\u001b[0m \u001b[0mstimulation\u001b[0m\u001b[1;33m.\u001b[0m\u001b[0mshape\u001b[0m\u001b[1;33m\u001b[0m\u001b[1;33m\u001b[0m\u001b[0m\n",
      "\u001b[1;31mTypeError\u001b[0m: edge_stim() got an unexpected keyword argument 'angle'"
     ]
    }
   ],
   "source": [
    "# Modify the edge_stim function to handle the theta value as a torch tensor\n",
    "def generate_stimuli(x0, y0, F=5, pixel_h=320, pixel_w=240, theta=0, w=1):\n",
    "    x = torch.arange(pixel_h).float().reshape(-1, 1) - x0\n",
    "    y = torch.arange(pixel_w).float().reshape(1, -1) - y0\n",
    "    theta_tensor = torch.tensor(theta)\n",
    "    u = x * torch.cos(theta_tensor) + y * torch.sin(theta_tensor)\n",
    "    v = -x * torch.sin(theta_tensor) + y * torch.cos(theta_tensor)\n",
    "    return torch.exp(-(u ** 2 + (v / w) ** 2) / (2 * F ** 2))\n",
    "\n",
    "# Generate the visual stimuli again\n",
    "stimulation = edge_stim(angle=45, num_stim=1, pixel_h=320, pixel_w=240, plot_stimuli=True)\n",
    "\n",
    "stimulation.shape"
   ]
  },
  {
   "cell_type": "code",
   "execution_count": 3,
   "metadata": {},
   "outputs": [
    {
     "data": {
      "text/plain": [
       "tensor([0., 0., 0., 0., 0.])"
      ]
     },
     "execution_count": 3,
     "metadata": {},
     "output_type": "execute_result"
    }
   ],
   "source": [
    "output_direct_spikes = network_direct_spikes(torch.full((10,), 100.0))  # Apply input current of 10 to each neuron in the first layer\n",
    "\n",
    "output_direct_spikes"
   ]
  },
  {
   "cell_type": "code",
   "execution_count": 4,
   "metadata": {},
   "outputs": [
    {
     "data": {
      "text/plain": [
       "Parameter containing:\n",
       "tensor([[-2.4717,  1.5611, -0.2171,  0.7864,  0.6821],\n",
       "        [ 0.4987, -0.5248,  0.6906,  0.7741,  1.4685],\n",
       "        [-0.1269, -2.1137, -0.0367,  1.0572, -1.4493],\n",
       "        [-0.8473, -0.0659,  0.6453, -0.0652, -0.9526],\n",
       "        [-0.1136,  0.7116, -0.3975, -1.7800, -0.7283],\n",
       "        [-0.5156,  0.4596, -0.9580,  1.8983,  1.7530],\n",
       "        [ 0.0429, -0.8344,  0.5445,  0.7898,  1.0992],\n",
       "        [-0.7353, -0.5417, -0.3213, -0.6271, -0.5443],\n",
       "        [ 1.4306,  0.6735,  0.1599,  0.4299, -1.2846],\n",
       "        [ 1.2354,  0.4694,  0.2001,  0.5502, -1.3301]], requires_grad=True)"
      ]
     },
     "execution_count": 4,
     "metadata": {},
     "output_type": "execute_result"
    }
   ],
   "source": [
    "weights = network_direct_spikes.weight\n",
    "\n",
    "weights"
   ]
  }
 ],
 "metadata": {
  "kernelspec": {
   "display_name": "pytorch-CUDA10.1",
   "language": "python",
   "name": "python3"
  },
  "language_info": {
   "codemirror_mode": {
    "name": "ipython",
    "version": 3
   },
   "file_extension": ".py",
   "mimetype": "text/x-python",
   "name": "python",
   "nbconvert_exporter": "python",
   "pygments_lexer": "ipython3",
   "version": "3.6.13"
  }
 },
 "nbformat": 4,
 "nbformat_minor": 2
}
