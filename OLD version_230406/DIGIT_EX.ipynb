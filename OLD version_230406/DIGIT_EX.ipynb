{
 "cells": [
  {
   "cell_type": "code",
   "execution_count": 9,
   "metadata": {},
   "outputs": [
    {
     "name": "stdout",
     "output_type": "stream",
     "text": [
      "FPS: 30.0\n"
     ]
    }
   ],
   "source": [
    "import cv2\n",
    "\n",
    "cap = cv2.VideoCapture(0)\n",
    "\n",
    "# Frame Per Second (FPS) 정보 얻기\n",
    "fps = cap.get(cv2.CAP_PROP_FPS)\n",
    "print(f\"FPS: {fps}\")\n",
    "\n",
    "desired_width = 640\n",
    "desired_height = 480\n",
    "cap.set(cv2.CAP_PROP_FRAME_WIDTH, desired_width)\n",
    "cap.set(cv2.CAP_PROP_FRAME_HEIGHT, desired_height)\n",
    "\n",
    "while True: # 무한 루프\n",
    "    ret, frame = cap.read() # 두 개의 값을 반환하므로 두 변수 지정\n",
    "\n",
    "    if not ret: # 새로운 프레임을 못받아 왔을 때 braek\n",
    "        break\n",
    "        \n",
    "    # 정지화면에서 윤곽선을 추출\n",
    "    gray = cv2.cvtColor(frame, cv2.COLOR_BGR2GRAY)\n",
    "    sobel = cv2.Sobel(frame, cv2.CV_8U, 1, 0, 3) *1\n",
    "    sobel2 = cv2.Sobel(frame, cv2.CV_8U, 0, 1, 3) * 1\n",
    "    \n",
    "    cv2.imshow('frame', frame)\n",
    "    cv2.imshow(\"sobel\", sobel)\n",
    "    cv2.imshow(\"sobel2\", sobel2)\n",
    "    # 10ms 기다리고 다음 프레임으로 전환, Esc누르면 while 강제 종료\n",
    "    if cv2.waitKey(1) == 27:\n",
    "        break\n",
    "\n",
    "cap.release() # 사용한 자원 해제\n",
    "cv2.destroyAllWindows()\n"
   ]
  },
  {
   "cell_type": "code",
   "execution_count": 2,
   "metadata": {},
   "outputs": [
    {
     "name": "stdout",
     "output_type": "stream",
     "text": [
      "FPS: 60.0\n",
      "Average Time per Frame: 6.734331448872884e-05 sec\n"
     ]
    }
   ],
   "source": [
    "import time\n",
    "\n",
    "cap = cv2.VideoCapture(0)\n",
    "\n",
    "desired_width = 320\n",
    "desired_height = 240\n",
    "cap.set(cv2.CAP_PROP_FRAME_WIDTH, desired_width)\n",
    "cap.set(cv2.CAP_PROP_FRAME_HEIGHT, desired_height)\n",
    "\n",
    "cap.set(cv2.CAP_PROP_FPS, 60)\n",
    "fps = cap.get(cv2.CAP_PROP_FPS)\n",
    "print(f\"FPS: {fps}\")\n",
    "\n",
    "frames = []  # Frame을 저장할 리스트\n",
    "frame_count = 0  # 캡처한 Frame 수\n",
    "total_time = 0  # 측정 시간의 합계\n",
    "\n",
    "while True: \n",
    "    ret, frame = cap.read() \n",
    "\n",
    "    if not ret or frame_count == 600:  # 캡처가 실패하거나 600프레임을 캡처하면 종료\n",
    "        break\n",
    "\n",
    "    frames.append(frame)  # 캡처한 Frame을 리스트에 추가\n",
    "    frame_count += 1  # Frame 수 증가\n",
    "    startT = time.time()\n",
    "    cv2.imshow('frame', cv2.resize(frame, (64, 48)))\n",
    "    endT = time.time()\n",
    "    total_time += (endT - startT)  # 측정 시간 누적\n",
    "    # 10ms 기다리고 다음 프레임으로 전환, Esc누르면 while 강제 종료\n",
    "    if cv2.waitKey(1) == 27:\n",
    "        break\n",
    "\n",
    "cap.release() \n",
    "cv2.destroyAllWindows()\n",
    "\n",
    "avg_time = total_time / frame_count if frame_count else 0  # 평균 실행 시간 계산\n",
    "print(f\"Average Time per Frame: {avg_time} sec\")  # 평균 실행 시간 출력"
   ]
  },
  {
   "cell_type": "code",
   "execution_count": null,
   "metadata": {},
   "outputs": [],
   "source": [
    "print(len(frames))"
   ]
  },
  {
   "cell_type": "code",
   "execution_count": 8,
   "metadata": {},
   "outputs": [
    {
     "name": "stdout",
     "output_type": "stream",
     "text": [
      "FPS: 60.0\n",
      "Average Time per Frame: 0.010106093486150106 sec\n"
     ]
    }
   ],
   "source": [
    "import time\n",
    "import cv2\n",
    "import numpy as np\n",
    "\n",
    "cap = cv2.VideoCapture(0)\n",
    "\n",
    "desired_width = 320\n",
    "desired_height = 240\n",
    "cap.set(cv2.CAP_PROP_FRAME_WIDTH, desired_width)\n",
    "cap.set(cv2.CAP_PROP_FRAME_HEIGHT, desired_height)\n",
    "\n",
    "cap.set(cv2.CAP_PROP_FPS, 60)\n",
    "fps = cap.get(cv2.CAP_PROP_FPS)\n",
    "print(f\"FPS: {fps}\")\n",
    "\n",
    "frames = []  # Frame을 저장할 리스트\n",
    "frame_count = 0  # 캡처한 Frame 수\n",
    "total_time = 0  # 측정 시간의 합계\n",
    "\n",
    "while True: \n",
    "    startT = time.time()\n",
    "\n",
    "    ret, frame = cap.read() \n",
    "\n",
    "    if not ret or frame_count == 600:  # 캡처가 실패하거나 600프레임을 캡처하면 종료\n",
    "        break\n",
    "\n",
    "    gray_frame = cv2.cvtColor(frame, cv2.COLOR_BGR2GRAY)  # Frame을 Grayscale로 변경\n",
    "    sobel = cv2.Sobel(gray_frame, cv2.CV_8U, 1, 0, 3) *10\n",
    "    # Frame을 상하로 뒤집고, 반시계 방향으로 90도 회전\n",
    "    flipped_frame = cv2.flip(sobel, 0)\n",
    "    rotated_frame = cv2.rotate(flipped_frame, cv2.ROTATE_90_COUNTERCLOCKWISE)\n",
    "    resized_frame = cv2.resize(rotated_frame, (48, 64))  # Frame 크기를 64x48로 변경\n",
    "\n",
    "    frames.append(resized_frame)  # 변경된 Frame을 리스트에 추가\n",
    "    frame_count += 1  # Frame 수 증가\n",
    "\n",
    "    cv2.imshow('frame', resized_frame)\n",
    "    endT = time.time()\n",
    "    total_time += (endT - startT)  # 측정 시간 누적\n",
    "    # 10ms 기다리고 다음 프레임으로 전환, Esc누르면 while 강제 종료\n",
    "    if cv2.waitKey(1) == 27:\n",
    "        break\n",
    "\n",
    "cap.release() \n",
    "cv2.destroyAllWindows()\n",
    "\n",
    "avg_time = total_time / frame_count if frame_count else 0  # 평균 실행 시간 계산\n",
    "print(f\"Average Time per Frame: {avg_time} sec\")  # 평균 실행 시간 출력\n"
   ]
  },
  {
   "cell_type": "code",
   "execution_count": null,
   "metadata": {},
   "outputs": [],
   "source": [
    "print(frames[0].shape)\n",
    "print(frames[1]/255)\n",
    "\n",
    "for i in range(300):\n",
    "    print(np.max(frames[i]))"
   ]
  },
  {
   "cell_type": "code",
   "execution_count": null,
   "metadata": {},
   "outputs": [],
   "source": []
  }
 ],
 "metadata": {
  "kernelspec": {
   "display_name": "digitex",
   "language": "python",
   "name": "python3"
  },
  "language_info": {
   "codemirror_mode": {
    "name": "ipython",
    "version": 3
   },
   "file_extension": ".py",
   "mimetype": "text/x-python",
   "name": "python",
   "nbconvert_exporter": "python",
   "pygments_lexer": "ipython3",
   "version": "3.8.16"
  },
  "orig_nbformat": 4
 },
 "nbformat": 4,
 "nbformat_minor": 2
}
