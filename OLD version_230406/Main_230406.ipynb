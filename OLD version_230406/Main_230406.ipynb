{
 "cells": [
  {
   "cell_type": "code",
   "execution_count": 104,
   "metadata": {},
   "outputs": [
    {
     "name": "stdout",
     "output_type": "stream",
     "text": [
      "The autoreload extension is already loaded. To reload it, use:\n",
      "  %reload_ext autoreload\n"
     ]
    }
   ],
   "source": [
    "from Function.SNNModule import *\n",
    "from Function.SNN_230404 import SNNModel\n",
    "from Function.plot_SNN import *\n",
    "from Function.ReceptiveField_GPU import *\n",
    "from Function.Stimulation_GPU import *\n",
    "import torch\n",
    "import torch.nn as nn\n",
    "import matplotlib.pyplot as plt\n",
    "import scipy.io\n",
    "import time\n",
    "import numpy as np\n",
    "%matplotlib inline\n",
    "%load_ext autoreload\n",
    "%autoreload 2\n"
   ]
  },
  {
   "cell_type": "code",
   "execution_count": 105,
   "metadata": {},
   "outputs": [
    {
     "name": "stdout",
     "output_type": "stream",
     "text": [
      "GPU available: True\n",
      "CUDA version: 10.1\n",
      "cpu\n"
     ]
    }
   ],
   "source": [
    "print(\"GPU available:\", torch.cuda.is_available())\n",
    "print(\"CUDA version:\", torch.version.cuda)\n",
    "\n",
    "# Enable GPU support if available\n",
    "device = torch.device(\"cuda\" if torch.cuda.is_available() else \"cpu\")\n",
    "device = \"cpu\"\n",
    "print(device)\n"
   ]
  },
  {
   "cell_type": "code",
   "execution_count": 106,
   "metadata": {},
   "outputs": [],
   "source": [
    "pixel_h, pixel_w = 3, 1  # (#)"
   ]
  },
  {
   "cell_type": "code",
   "execution_count": 107,
   "metadata": {},
   "outputs": [
    {
     "name": "stdout",
     "output_type": "stream",
     "text": [
      "tensor([[10, 10, 10]]) torch.Size([1, 3])\n",
      "tensor([10, 10, 10]) torch.Size([3])\n"
     ]
    }
   ],
   "source": [
    "a = torch.tensor([[10, 10, 10]])\n",
    "b = torch.tensor([10,10,10])\n",
    "\n",
    "print(a,a.shape)\n",
    "print(b,b.shape)"
   ]
  },
  {
   "cell_type": "code",
   "execution_count": 108,
   "metadata": {},
   "outputs": [
    {
     "name": "stdout",
     "output_type": "stream",
     "text": [
      "Complete! Generated 2 receptive fields from afferents to the top with kernel size 1x3. with step size 0x0\n",
      "Complete! Generated 2 receptive fields from afferents to the top with kernel size 1x3. with step size 0x0\n",
      "tensor([[10., 10., 10.],\n",
      "        [10., 10., 10.]]) torch.Size([2, 3])\n",
      "tensor([[0., 0., 0.],\n",
      "        [1., 1., 1.]]) torch.Size([2, 3])\n"
     ]
    }
   ],
   "source": [
    "receptive_field_optimized = [torch.tensor([[10, 10, 10]]),\n",
    "                             torch.tensor([[10, 10, 10]])]\n",
    "\n",
    "synaptic_delays_top = [torch.tensor([[0, 0, 0]], device=device),\n",
    "                       torch.tensor([[1, 1, 1]], device=device)]\n",
    "\n",
    "rf, rf_length = generate_afferent_to_top_rf(receptive_field_optimized, pixel_h=1,\n",
    "                                            pixel_w=3, step_size=1, device=device)\n",
    "\n",
    "rf_delay, rf_delay_length = generate_afferent_to_top_rf(synaptic_delays_top, pixel_h=1,\n",
    "                                                        pixel_w=3, step_size=1, device=device)\n",
    "\n",
    "\n",
    "print(rf,rf.shape)\n",
    "print(rf_delay,rf_delay.shape)\n"
   ]
  },
  {
   "cell_type": "code",
   "execution_count": 109,
   "metadata": {},
   "outputs": [
    {
     "name": "stdout",
     "output_type": "stream",
     "text": [
      "layers initialized\n",
      "Synapses initialized\n"
     ]
    }
   ],
   "source": [
    "# Create Izhikevich layers\n",
    "layers = [\n",
    "    IzhikevichLayer(0.02, 0.2, -65, 8,num_neurons= 2, a_decay=1, device=device),\n",
    "]\n",
    "\n",
    "# Create synapses\n",
    "synapses = [\n",
    "    Synapse(rf, rf_delay, device=device),\n",
    "]\n"
   ]
  },
  {
   "cell_type": "code",
   "execution_count": 110,
   "metadata": {},
   "outputs": [],
   "source": [
    "num_stim = 30\n",
    "\n",
    "# Generate the stimuli and stack them up\n",
    "stim = torch.zeros((pixel_h, pixel_w, num_stim), device=device)\n",
    "\n",
    "stim[:,0,1] = 1"
   ]
  },
  {
   "cell_type": "code",
   "execution_count": 123,
   "metadata": {},
   "outputs": [
    {
     "name": "stdout",
     "output_type": "stream",
     "text": [
      "Initializing SNN Model with 1 layers with device cpu\n"
     ]
    }
   ],
   "source": [
    "S = SNNModel(layers,synapses,device = device)\n",
    "\n",
    "spike_times = [torch.zeros(\n",
    "    (synapse.weights.shape[0], num_stim - 1)) for synapse in S.synapses]\n",
    "\n",
    "v = [torch.zeros(\n",
    "    (synapse.weights.shape[0], num_stim - 1)) for synapse in S.synapses]\n",
    "\n",
    "\n",
    "\n",
    "for i in range(num_stim):\n",
    "    # print(stim[:,:,i],stim[:,:,i].shape)\n",
    "    # print(stim[:,:,i].reshape(-1),stim[:,:,i].reshape(-1).shape)\n",
    "    input_current = S.synapses[0].cal_post_input(stim[:, :, i].reshape(-1))\n",
    "\n",
    "    \n",
    "\n"
   ]
  }
 ],
 "metadata": {
  "kernelspec": {
   "display_name": "pytorch-CUDA10.1",
   "language": "python",
   "name": "python3"
  },
  "language_info": {
   "codemirror_mode": {
    "name": "ipython",
    "version": 3
   },
   "file_extension": ".py",
   "mimetype": "text/x-python",
   "name": "python",
   "nbconvert_exporter": "python",
   "pygments_lexer": "ipython3",
   "version": "3.6.13"
  },
  "orig_nbformat": 4
 },
 "nbformat": 4,
 "nbformat_minor": 2
}
