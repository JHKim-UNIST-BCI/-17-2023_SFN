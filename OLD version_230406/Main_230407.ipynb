{
 "cells": [
  {
   "cell_type": "code",
   "execution_count": 1,
   "metadata": {},
   "outputs": [],
   "source": [
    "import torch\n",
    "import torch.nn as nn\n",
    "import matplotlib.pyplot as plt\n",
    "import scipy.io\n",
    "import time\n",
    "import numpy as np\n",
    "from Function.ReceptiveField import *\n",
    "from Function.SNNModule_v2 import *\n",
    "from Function.plot_SNN import *\n",
    "from Function.SNN_230407 import *\n",
    "%matplotlib inline\n",
    "%load_ext autoreload\n",
    "%autoreload 2\n"
   ]
  },
  {
   "cell_type": "code",
   "execution_count": 2,
   "metadata": {},
   "outputs": [
    {
     "name": "stdout",
     "output_type": "stream",
     "text": [
      "GPU available: True\n",
      "CUDA version: 10.1\n",
      "Using device: cuda\n"
     ]
    }
   ],
   "source": [
    "print(f\"GPU available: {torch.cuda.is_available()}\")\n",
    "print(f\"CUDA version: {torch.version.cuda}\")\n",
    "\n",
    "# Enable GPU support if available\n",
    "device = torch.device(\"cuda\" if torch.cuda.is_available() else \"cpu\")\n",
    "print(f\"Using device: {device}\")\n",
    "\n",
    "deivce = 'cpu'"
   ]
  },
  {
   "cell_type": "code",
   "execution_count": 3,
   "metadata": {},
   "outputs": [],
   "source": [
    "pixel_h, pixel_w = 3, 1"
   ]
  },
  {
   "cell_type": "code",
   "execution_count": 4,
   "metadata": {},
   "outputs": [
    {
     "name": "stdout",
     "output_type": "stream",
     "text": [
      "Complete! Generated 2 receptive fields from afferents to the top with kernel size 1x3. with step size 0x0\n",
      "Complete! Generated 2 receptive fields from afferents to the top with kernel size 1x3. with step size 0x0\n",
      "tensor([[10., 10., 10.],\n",
      "        [10., 10., 10.]], device='cuda:0') torch.Size([2, 3])\n",
      "tensor([[0., 0., 0.],\n",
      "        [0., 2., 0.]], device='cuda:0') torch.Size([2, 3])\n",
      "2\n"
     ]
    }
   ],
   "source": [
    "Output_layer, _ = generate_afferent_to_top_rf(\n",
    "    [torch.tensor([[10, 10, 10]], device=device),\n",
    "     torch.tensor([[10, 10, 10]], device=device)],\n",
    "    pixel_h=1,\n",
    "    pixel_w=3,\n",
    "    step_size=1,\n",
    "    device=device\n",
    ")\n",
    "\n",
    "synaptic_delays, _ = generate_afferent_to_top_rf(\n",
    "    [torch.tensor([[0, 0, 0]], device=device),\n",
    "     torch.tensor([[0, 2, 0]], device=device)],\n",
    "    pixel_h=1,\n",
    "    pixel_w=3,\n",
    "    step_size=1,\n",
    "    device=device\n",
    ")\n",
    "\n",
    "print(Output_layer, Output_layer.shape)\n",
    "print(synaptic_delays, synaptic_delays.shape)\n",
    "\n",
    "num_output_layer_neurons = len(Output_layer)\n",
    "print(num_output_layer_neurons)\n"
   ]
  },
  {
   "cell_type": "code",
   "execution_count": 5,
   "metadata": {},
   "outputs": [
    {
     "name": "stdout",
     "output_type": "stream",
     "text": [
      "layers initialized\n",
      "Synapses initialized\n"
     ]
    }
   ],
   "source": [
    "# Create Izhikevich layers\n",
    "layers = [\n",
    "    IzhikevichLayer(0.02, 0.2, -65, 8, num_neurons=num_output_layer_neurons, a_decay=1, buffer_size = 5,device=device),\n",
    "]\n",
    "\n",
    "# Create synapses\n",
    "synapses = [\n",
    "    Synapse(Output_layer, synaptic_delays, device=device),\n",
    "]"
   ]
  },
  {
   "cell_type": "code",
   "execution_count": 6,
   "metadata": {},
   "outputs": [
    {
     "data": {
      "image/png": "[encoded data removed]",
      "text/plain": [
       "<Figure size 360x216 with 1 Axes>"
      ]
     },
     "metadata": {
      "needs_background": "light"
     },
     "output_type": "display_data"
    }
   ],
   "source": [
    "num_stim = 30\n",
    "\n",
    "# Generate the stimuli and stack them up\n",
    "stim = torch.zeros((pixel_h, num_stim), device=device)\n",
    "\n",
    "# stim[0,5] = 1\n",
    "# stim[2,5] = 1\n",
    "stim[0,15] = 0\n",
    "stim[2,15] = 1\n",
    "stim[1,13] = 1\n",
    "\n",
    "\n",
    "plot_spike_times(stim,xtick = np.arange(0, 31, 1))"
   ]
  },
  {
   "cell_type": "code",
   "execution_count": 7,
   "metadata": {},
   "outputs": [
    {
     "name": "stdout",
     "output_type": "stream",
     "text": [
      "Initializing SNN Model with 1 layers with device cuda\n"
     ]
    },
    {
     "data": {
      "image/png": "[encoded data removed]",
      "text/plain": [
       "<Figure size 360x216 with 1 Axes>"
      ]
     },
     "metadata": {
      "needs_background": "light"
     },
     "output_type": "display_data"
    },
    {
     "data": {
      "image/png": "[encoded data removed]",
      "text/plain": [
       "<Figure size 360x216 with 1 Axes>"
      ]
     },
     "metadata": {
      "needs_background": "light"
     },
     "output_type": "display_data"
    }
   ],
   "source": [
    "S = SNNModel(layers, synapses, device = device)\n",
    "\n",
    "[spike_times,v] = S.feedforward(stim)\n",
    "\n",
    "plot_spike_times(spike_times[0],xtick = np.arange(0, 31, 1))\n",
    "\n",
    "plot_membrane_potential(v[0],xtick = np.arange(0, 31, 1))\n"
   ]
  },
  {
   "cell_type": "code",
   "execution_count": 8,
   "metadata": {},
   "outputs": [
    {
     "name": "stdout",
     "output_type": "stream",
     "text": [
      "tensor([[1.],\n",
      "        [1.],\n",
      "        [1.]], device='cuda:0')\n"
     ]
    }
   ],
   "source": [
    "delay = torch.tensor([[0, 1, 0]], device=device).t()\n",
    "delay = 4-delay\n",
    "pre_spike_times = torch.tensor([[0., 0., 0., 0., 1.],\n",
    "                             [0., 0., 0., 1., 0.],\n",
    "                             [0., 0., 0., 0., 1.]], device='cuda:0')\n",
    "\n",
    "spikes_with_delay = torch.gather(\n",
    "            pre_spike_times, 1, delay)\n",
    "print(spikes_with_delay)"
   ]
  },
  {
   "cell_type": "code",
   "execution_count": 9,
   "metadata": {},
   "outputs": [
    {
     "name": "stdout",
     "output_type": "stream",
     "text": [
      "Initializing SNN Model with 1 layers with device cuda\n"
     ]
    },
    {
     "data": {
      "image/png": "[encoded data removed]",
      "text/plain": [
       "<Figure size 360x216 with 1 Axes>"
      ]
     },
     "metadata": {
      "needs_background": "light"
     },
     "output_type": "display_data"
    },
    {
     "data": {
      "image/png": "[encoded data removed]",
      "text/plain": [
       "<Figure size 360x216 with 1 Axes>"
      ]
     },
     "metadata": {
      "needs_background": "light"
     },
     "output_type": "display_data"
    }
   ],
   "source": [
    "S = SNNModel(layers, synapses, device = device)\n",
    "\n",
    "[spike_times,v] = S.feedforward_delay(stim)\n",
    "\n",
    "plot_spike_times(spike_times[0],xtick = np.arange(0, 31, 1))\n",
    "\n",
    "plot_membrane_potential(v[0],xtick = np.arange(0, 31, 1))\n",
    "\n"
   ]
  }
 ],
 "metadata": {
  "kernelspec": {
   "display_name": "pytorch-CUDA10.1",
   "language": "python",
   "name": "python3"
  },
  "language_info": {
   "codemirror_mode": {
    "name": "ipython",
    "version": 3
   },
   "file_extension": ".py",
   "mimetype": "text/x-python",
   "name": "python",
   "nbconvert_exporter": "python",
   "pygments_lexer": "ipython3",
   "version": "3.6.13"
  },
  "orig_nbformat": 4
 },
 "nbformat": 4,
 "nbformat_minor": 2
}
