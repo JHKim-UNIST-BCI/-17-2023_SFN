{
 "cells": [
  {
   "cell_type": "code",
   "execution_count": 1,
   "metadata": {},
   "outputs": [],
   "source": [
    "import torch\n",
    "import torch.nn as nn\n",
    "import matplotlib.pyplot as plt\n",
    "import scipy.io\n",
    "import time\n",
    "import numpy as np\n",
    "from Function.ReceptiveField import *\n",
    "from Function.SNNModule_v2 import *\n",
    "from Function.plot_SNN import *\n",
    "from Function.SNN_230410_total import *\n",
    "from Function.Stimulation_GPU import *\n",
    "%matplotlib inline\n",
    "%load_ext autoreload\n",
    "%autoreload 2\n"
   ]
  },
  {
   "cell_type": "code",
   "execution_count": 2,
   "metadata": {},
   "outputs": [
    {
     "name": "stdout",
     "output_type": "stream",
     "text": [
      "GPU available: True\n",
      "CUDA version: 10.1\n",
      "Using device: cuda\n"
     ]
    }
   ],
   "source": [
    "print(f\"GPU available: {torch.cuda.is_available()}\")\n",
    "print(f\"CUDA version: {torch.version.cuda}\")\n",
    "\n",
    "# Enable GPU support if available\n",
    "device = torch.device(\"cuda\" if torch.cuda.is_available() else \"cpu\")\n",
    "print(f\"Using device: {device}\")\n",
    "\n",
    "deivce = 'cpu'\n"
   ]
  },
  {
   "cell_type": "code",
   "execution_count": 3,
   "metadata": {},
   "outputs": [],
   "source": [
    "# Set sensor dimensions (height and width in millimeters)\n",
    "sensor_h, sensor_w = 19, 16\n",
    "\n",
    "# Set pixel dimensions (number of pixels in height and width)\n",
    "pixel_h, pixel_w = 64, 48\n",
    "\n",
    "# Set image frames per second (FPS)\n",
    "img_FPS = 60\n"
   ]
  },
  {
   "cell_type": "code",
   "execution_count": 4,
   "metadata": {},
   "outputs": [
    {
     "name": "stdout",
     "output_type": "stream",
     "text": [
      "Complete! Generated 70 receptive fields from mechanoreceptor to afferents with kernel size 10x11.\n",
      "Complete! Generated 54 receptive fields from mechanoreceptor to afferents with kernel size 14x15.\n",
      "SA_rf shape: torch.Size([70, 3072]) with height = 7 with width = 10\n",
      "RA_rf shape: torch.Size([54, 3072]) with height = 6 with width = 9\n",
      "Complete! Generated 40 receptive fields from afferents to the top with kernel size 3x3. with step size 4x7\n",
      "Complete! Generated 40 receptive fields from afferents to the top with kernel size 3x3. with step size 4x7\n",
      "Complete! Generated 40 receptive fields from afferents to the top with kernel size 3x3. with step size 4x7\n",
      "Complete! Generated 28 receptive fields from afferents to the top with kernel size 3x3. with step size 3x6\n",
      "Complete! Generated 28 receptive fields from afferents to the top with kernel size 3x3. with step size 3x6\n",
      "Complete! Generated 28 receptive fields from afferents to the top with kernel size 3x3. with step size 3x6\n",
      "70 40 40\n"
     ]
    }
   ],
   "source": [
    "# Generate Slowly Adapting (SA) and Rapidly Adapting (RA) receptive fields\n",
    "SA_RF, [SA_step_height, SA_step_width] = generate_mechanoreceptor_to_afferent_rf(\n",
    "    kernel_w=11, kernel_h=10, step_size=6,device=device)\n",
    "RA_RF, [RA_step_height, RA_step_width] = generate_mechanoreceptor_to_afferent_rf(\n",
    "    kernel_w=15, kernel_h=14,step_size=6,device=device)\n",
    "\n",
    "# Print the shape of the SA_rf variable\n",
    "print(\"SA_rf shape:\", SA_RF.shape, 'with height =', SA_step_height, 'with width =',SA_step_width)\n",
    "print(\"RA_rf shape:\", RA_RF.shape, 'with height =', RA_step_height, 'with width =',RA_step_width)\n",
    "\n",
    "# Define optimized receptive fields\n",
    "CN_PN_RF = [\n",
    "    torch.tensor([[0, 0, 0], [0, 1, 0], [0, 0, 0]], device=device) * 10,  # Prewitt vertical\n",
    "]\n",
    "\n",
    "CN_IN_RF = [\n",
    "    torch.tensor([[1, 1, 1], [1, 0, 1], [1, 1, 1]], device=device) * 5,  # Prewitt vertical\n",
    "]\n",
    "\n",
    "# Define synaptic delays\n",
    "CN_SD = [\n",
    "    torch.tensor([[0, 0, 0], [0, 0, 0], [0, 0, 0]], device=device),\n",
    "]\n",
    "\n",
    "# Check if the sizes of the inner tensors are different and print the index\n",
    "for i, (PN,IN) in enumerate(zip(CN_PN_RF, CN_IN_RF)):\n",
    "    if PN.size() != IN.size():\n",
    "        raise ValueError(\n",
    "            f\"The inner tensors at index {i} have different sizes: {PN.size()} != {IN.size()}\")\n",
    "\n",
    "SA_CN_PN_RF, SA_CN_PN_RF_len = generate_afferent_to_top_rf(CN_PN_RF, pixel_h=SA_step_height,\n",
    "                                                      pixel_w=SA_step_width, step_size=1, device=device)\n",
    "SA_CN_IN_RF, SA_CN_IN_RF_len = generate_afferent_to_top_rf(CN_IN_RF, pixel_h=SA_step_height,\n",
    "                                                      pixel_w=SA_step_width, step_size=1, device=device)\n",
    "SA_CN_SD, SA_CN_SD_len = generate_afferent_to_top_rf(CN_SD, pixel_h=SA_step_height,\n",
    "                                                                      pixel_w=SA_step_width, step_size=1, device=device)\n",
    "\n",
    "\n",
    "RA_CN_PN_RF, RA_CN_PN_RF_len = generate_afferent_to_top_rf(CN_PN_RF, pixel_h=RA_step_height,\n",
    "                                                      pixel_w=RA_step_width, step_size=1, device=device)\n",
    "RA_CN_IN_RF, RA_CN_IN_RF_len = generate_afferent_to_top_rf(CN_IN_RF, pixel_h=RA_step_height,\n",
    "                                                      pixel_w=RA_step_width, step_size=1, device=device)\n",
    "RA_CN_SD, RA_CN_SD_len = generate_afferent_to_top_rf(CN_SD, pixel_h=RA_step_height,\n",
    "                                                                      pixel_w=RA_step_width, step_size=1, device=device)\n",
    "\n",
    "print(len(SA_RF), len(SA_CN_PN_RF), len(SA_CN_IN_RF))\n"
   ]
  },
  {
   "cell_type": "code",
   "execution_count": 5,
   "metadata": {},
   "outputs": [
    {
     "name": "stdout",
     "output_type": "stream",
     "text": [
      "layers initialized\n",
      "layers initialized\n",
      "layers initialized\n",
      "layers initialized\n",
      "layers initialized\n",
      "layers initialized\n",
      "Synapses initialized\n",
      "Synapses initialized\n",
      "Synapses initialized\n",
      "Synapses initialized\n",
      "Synapses initialized\n",
      "Synapses initialized\n"
     ]
    }
   ],
   "source": [
    "# Create Izhikevich layers\n",
    "SA_layer = IzhikevichLayer(0.02, 0.2, -65, 8, len(SA_RF), a_decay=1, device=device)\n",
    "SA_CN_PN_layer = IzhikevichLayer(0.1, 0.2, -65, 6, len(SA_CN_PN_RF), a_decay=1, device=device)\n",
    "SA_CN_IN_layer = IzhikevichLayer(0.1, 0.2, -65, 6, len(SA_CN_IN_RF), a_decay=1, device=device)\n",
    "\n",
    "RA_layer = IzhikevichLayer(0.02, 0.2, -65, 8, len(RA_RF), a_decay=1, device=device)\n",
    "RA_CN_PN_layer = IzhikevichLayer(0.1, 0.2, -65, 6, len(RA_CN_PN_RF), a_decay=1, device=device)\n",
    "RA_CN_IN_layer = IzhikevichLayer(0.1, 0.2, -65, 6, len(RA_CN_IN_RF), a_decay=1, device=device)\n",
    "\n",
    "SA_layers = [SA_layer, SA_CN_PN_layer, SA_CN_IN_layer]\n",
    "RA_layers = [RA_layer, RA_CN_PN_layer, RA_CN_IN_layer]\n",
    "\n",
    "SA_synapse = Synapse(SA_RF.to(device), device=device)\n",
    "SA_CN_PN_synapse = Synapse(SA_CN_PN_RF.to(device),delays = SA_CN_SD, device=device)\n",
    "SA_CN_IN_synapse = Synapse(SA_CN_IN_RF.to(device),delays = SA_CN_SD, device=device)\n",
    "\n",
    "RA_synapse = Synapse(RA_RF.to(device), device=device)\n",
    "RA_CN_PN_synapse = Synapse(RA_CN_PN_RF.to(device),delays = RA_CN_SD, device=device)\n",
    "RA_CN_IN_synapse = Synapse(RA_CN_IN_RF.to(device),delays = RA_CN_SD, device=device)\n",
    "\n",
    "SA_synapses = [SA_synapse, SA_CN_PN_synapse, SA_CN_IN_synapse]\n",
    "RA_synapses = [RA_synapse, RA_CN_PN_synapse, RA_CN_IN_synapse]\n",
    "\n",
    "\n",
    "# RA_synapses[0].weights"
   ]
  },
  {
   "cell_type": "code",
   "execution_count": 6,
   "metadata": {},
   "outputs": [
    {
     "name": "stdout",
     "output_type": "stream",
     "text": [
      "cuda:0\n"
     ]
    },
    {
     "data": {
      "image/png": "[encoded data removed]",
      "text/plain": [
       "<Figure size 432x288 with 1 Axes>"
      ]
     },
     "metadata": {
      "needs_background": "light"
     },
     "output_type": "display_data"
    }
   ],
   "source": [
    "num_stim = 1000\n",
    "stimulation_vertical = torch.zeros((pixel_h, pixel_w, num_stim), device=device)\n",
    "max_F = 15\n",
    "F_array = np.concatenate([\n",
    "    np.zeros((100,)),\n",
    "    np.linspace(0, max_F, 200),\n",
    "    np.full((400,), max_F),\n",
    "    np.linspace(max_F, 0, 200),\n",
    "    np.zeros((100,))\n",
    "])\n",
    "for i, F_i in enumerate(F_array):\n",
    "    stim_dot = elongated_stim(F=F_i*2, pixel_h=pixel_h,\n",
    "                              pixel_w=pixel_w, orientation='horizontal')\n",
    "    # Use 'vertical' for vertically elongated stimulus\n",
    "    # stim_dot = elongated_stim(F=F_i, pixel_h=pixel_h, pixel_w=pixel_w, orientation='vertical')\n",
    "    stimulation_vertical[:, :, i] = stim_dot\n",
    "    # if i % 200 == 0:\n",
    "    #     plt.imshow(stimulation_vertical[:, :, i].cpu(),\n",
    "    #                cmap='jet', vmin=0, vmax=max_F)\n",
    "\n",
    "    #     plt.show()\n",
    "print(stimulation_vertical.device)\n",
    "\n",
    "plt.plot(F_array)\n",
    "plt.show()\n"
   ]
  },
  {
   "cell_type": "code",
   "execution_count": 7,
   "metadata": {},
   "outputs": [
    {
     "name": "stdout",
     "output_type": "stream",
     "text": [
      "start feedforward\n"
     ]
    },
    {
     "ename": "RuntimeError",
     "evalue": "Size does not match at dimension 0 expected index [70, 40] to be smaller than src [40, 50] apart from dimension 1",
     "output_type": "error",
     "traceback": [
      "\u001b[1;31m---------------------------------------------------------------------------\u001b[0m",
      "\u001b[1;31mRuntimeError\u001b[0m                              Traceback (most recent call last)",
      "\u001b[1;32m<ipython-input-7-9defca64b323>\u001b[0m in \u001b[0;36m<module>\u001b[1;34m\u001b[0m\n\u001b[0;32m      1\u001b[0m \u001b[0mS\u001b[0m \u001b[1;33m=\u001b[0m \u001b[0mSNNModel\u001b[0m\u001b[1;33m(\u001b[0m\u001b[1;33m[\u001b[0m\u001b[0mSA_layers\u001b[0m\u001b[1;33m,\u001b[0m\u001b[0mRA_layers\u001b[0m\u001b[1;33m]\u001b[0m\u001b[1;33m,\u001b[0m\u001b[1;33m[\u001b[0m\u001b[0mSA_synapses\u001b[0m\u001b[1;33m,\u001b[0m\u001b[0mRA_synapses\u001b[0m\u001b[1;33m]\u001b[0m\u001b[1;33m,\u001b[0m\u001b[0mdevice\u001b[0m\u001b[1;33m)\u001b[0m\u001b[1;33m\u001b[0m\u001b[1;33m\u001b[0m\u001b[0m\n\u001b[0;32m      2\u001b[0m \u001b[1;33m\u001b[0m\u001b[0m\n\u001b[1;32m----> 3\u001b[1;33m \u001b[0mS\u001b[0m\u001b[1;33m.\u001b[0m\u001b[0mfeedforward\u001b[0m\u001b[1;33m(\u001b[0m\u001b[0mstimulation_vertical\u001b[0m\u001b[1;33m)\u001b[0m\u001b[1;33m\u001b[0m\u001b[1;33m\u001b[0m\u001b[0m\n\u001b[0m\u001b[0;32m      4\u001b[0m \u001b[1;33m\u001b[0m\u001b[0m\n\u001b[0;32m      5\u001b[0m \u001b[0mplot_spike_times\u001b[0m\u001b[1;33m(\u001b[0m\u001b[0mS\u001b[0m\u001b[1;33m.\u001b[0m\u001b[0mSA_spike_times\u001b[0m\u001b[1;33m[\u001b[0m\u001b[1;36m0\u001b[0m\u001b[1;33m]\u001b[0m\u001b[1;33m)\u001b[0m\u001b[1;33m\u001b[0m\u001b[1;33m\u001b[0m\u001b[0m\n",
      "\u001b[1;32mc:\\Users\\JaehunKim\\Desktop\\연구실PC\\[02]개인연구\\[13]2022_Pre-Defense\\연구\\Chapter 2\\PYTHON\\Ongoing_230407\\Function\\SNN_230410_total.py\u001b[0m in \u001b[0;36mfeedforward\u001b[1;34m(self, stim)\u001b[0m\n\u001b[0;32m     32\u001b[0m \u001b[1;33m\u001b[0m\u001b[0m\n\u001b[0;32m     33\u001b[0m         self.SA_spike_times = self.process_stim(\n\u001b[1;32m---> 34\u001b[1;33m             SA_stim, self.SA_layers, self.SA_synapses)\n\u001b[0m\u001b[0;32m     35\u001b[0m         self.RA_spike_times = self.process_stim(\n\u001b[0;32m     36\u001b[0m             RA_stim, self.RA_layers, self.RA_synapses)\n",
      "\u001b[1;32mc:\\Users\\JaehunKim\\Desktop\\연구실PC\\[02]개인연구\\[13]2022_Pre-Defense\\연구\\Chapter 2\\PYTHON\\Ongoing_230407\\Function\\SNN_230410_total.py\u001b[0m in \u001b[0;36mprocess_stim\u001b[1;34m(self, stim, layers, synapses)\u001b[0m\n\u001b[0;32m     51\u001b[0m             \u001b[0mrf_input_pn1\u001b[0m \u001b[1;33m=\u001b[0m \u001b[0mrf_input_in\u001b[0m\u001b[1;33m\u001b[0m\u001b[1;33m\u001b[0m\u001b[0m\n\u001b[0;32m     52\u001b[0m             rf_input_in = synapses[1].cal_post_input_delay(\n\u001b[1;32m---> 53\u001b[1;33m                 layers[2].spike_buffer)\n\u001b[0m\u001b[0;32m     54\u001b[0m \u001b[1;33m\u001b[0m\u001b[0m\n\u001b[0;32m     55\u001b[0m             \u001b[0mspike_times\u001b[0m\u001b[1;33m[\u001b[0m\u001b[1;36m0\u001b[0m\u001b[1;33m]\u001b[0m\u001b[1;33m[\u001b[0m\u001b[1;33m:\u001b[0m\u001b[1;33m,\u001b[0m \u001b[0mi\u001b[0m \u001b[1;33m-\u001b[0m \u001b[1;36m1\u001b[0m\u001b[1;33m]\u001b[0m \u001b[1;33m=\u001b[0m \u001b[0mlayers\u001b[0m\u001b[1;33m[\u001b[0m\u001b[1;36m0\u001b[0m\u001b[1;33m]\u001b[0m\u001b[1;33m.\u001b[0m\u001b[0mspikes\u001b[0m\u001b[1;33m\u001b[0m\u001b[1;33m\u001b[0m\u001b[0m\n",
      "\u001b[1;32mc:\\Users\\JaehunKim\\Desktop\\연구실PC\\[02]개인연구\\[13]2022_Pre-Defense\\연구\\Chapter 2\\PYTHON\\Ongoing_230407\\Function\\SNNModule_v2.py\u001b[0m in \u001b[0;36mcal_post_input_delay\u001b[1;34m(self, pre_spike_times, buffer_size)\u001b[0m\n\u001b[0;32m     98\u001b[0m         \u001b[1;31m# Use torch.gather to get the spikes corresponding to the delay indices\u001b[0m\u001b[1;33m\u001b[0m\u001b[1;33m\u001b[0m\u001b[1;33m\u001b[0m\u001b[0m\n\u001b[0;32m     99\u001b[0m         spikes_with_delay = torch.gather(\n\u001b[1;32m--> 100\u001b[1;33m             pre_spike_times, 1, synaptic_delay_transpose).t()\n\u001b[0m\u001b[0;32m    101\u001b[0m \u001b[1;33m\u001b[0m\u001b[0m\n\u001b[0;32m    102\u001b[0m         \u001b[0mdelayed_post_input\u001b[0m \u001b[1;33m=\u001b[0m \u001b[0mtorch\u001b[0m\u001b[1;33m.\u001b[0m\u001b[0meinsum\u001b[0m\u001b[1;33m(\u001b[0m\u001b[1;34m'ij,ij->i'\u001b[0m\u001b[1;33m,\u001b[0m \u001b[0mself\u001b[0m\u001b[1;33m.\u001b[0m\u001b[0mweights\u001b[0m\u001b[1;33m,\u001b[0m \u001b[0mspikes_with_delay\u001b[0m\u001b[1;33m)\u001b[0m\u001b[1;33m\u001b[0m\u001b[1;33m\u001b[0m\u001b[0m\n",
      "\u001b[1;31mRuntimeError\u001b[0m: Size does not match at dimension 0 expected index [70, 40] to be smaller than src [40, 50] apart from dimension 1"
     ]
    }
   ],
   "source": [
    "S = SNNModel([SA_layers,RA_layers],[SA_synapses,RA_synapses],device)\n",
    "\n",
    "S.feedforward(stimulation_vertical)\n",
    "\n",
    "plot_spike_times(S.SA_spike_times[0])\n",
    "plot_spike_times(S.SA_spike_times[2])\n",
    "plot_spike_times(S.RA_spike_times[0])\n",
    "plot_spike_times(S.RA_spike_times[2])\n",
    "\n"
   ]
  },
  {
   "cell_type": "code",
   "execution_count": null,
   "metadata": {},
   "outputs": [
    {
     "data": {
      "text/plain": [
       "tensor([[5., 5., 5.,  ..., 0., 0., 0.],\n",
       "        [0., 5., 5.,  ..., 0., 0., 0.],\n",
       "        [0., 0., 5.,  ..., 0., 0., 0.],\n",
       "        ...,\n",
       "        [0., 0., 0.,  ..., 5., 0., 0.],\n",
       "        [0., 0., 0.,  ..., 5., 5., 0.],\n",
       "        [0., 0., 0.,  ..., 5., 5., 5.]], device='cuda:0')"
      ]
     },
     "execution_count": 8,
     "metadata": {},
     "output_type": "execute_result"
    }
   ],
   "source": [
    "S.SA_synapses[2].weights\n"
   ]
  }
 ],
 "metadata": {
  "kernelspec": {
   "display_name": "pytorch-CUDA10.1",
   "language": "python",
   "name": "python3"
  },
  "language_info": {
   "codemirror_mode": {
    "name": "ipython",
    "version": 3
   },
   "file_extension": ".py",
   "mimetype": "text/x-python",
   "name": "python",
   "nbconvert_exporter": "python",
   "pygments_lexer": "ipython3",
   "version": "3.6.13"
  },
  "orig_nbformat": 4
 },
 "nbformat": 4,
 "nbformat_minor": 2
}
