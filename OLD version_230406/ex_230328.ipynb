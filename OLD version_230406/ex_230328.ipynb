{
 "cells": [
  {
   "cell_type": "code",
   "execution_count": 2,
   "metadata": {},
   "outputs": [],
   "source": [
    "%matplotlib inline\n",
    "%load_ext autoreload\n",
    "%autoreload 2\n",
    "\n",
    "import numpy as np\n",
    "import time\n",
    "import scipy.io\n",
    "import matplotlib.pyplot as plt\n",
    "\n",
    "import torch.nn as nn\n",
    "import torch"
   ]
  },
  {
   "cell_type": "code",
   "execution_count": 3,
   "metadata": {},
   "outputs": [
    {
     "name": "stdout",
     "output_type": "stream",
     "text": [
      "tensor([[1, 2],\n",
      "        [3, 4],\n",
      "        [5, 6]], device='cuda:0')\n",
      "tensor([1, 2, 3, 4, 5, 6], device='cuda:0')\n",
      "tensor([[1, 2],\n",
      "        [3, 4],\n",
      "        [5, 6]], device='cuda:0')\n"
     ]
    }
   ],
   "source": [
    "original_tensor = torch.tensor([[1,2],[3,4],[5,6]],device = 'cuda')\n",
    "\n",
    "\n",
    "reshape_tensor = original_tensor.reshape(-1)\n",
    "\n",
    "rereshape_tensor = reshape_tensor.reshape(original_tensor.shape)\n",
    "\n",
    "print(original_tensor)\n",
    "print(reshape_tensor)\n",
    "print(rereshape_tensor)"
   ]
  },
  {
   "cell_type": "code",
   "execution_count": 28,
   "metadata": {},
   "outputs": [
    {
     "name": "stdout",
     "output_type": "stream",
     "text": [
      "torch.Size([9, 2])\n",
      "tensor([[1., 1.],\n",
      "        [2., 2.],\n",
      "        [3., 3.],\n",
      "        [4., 4.],\n",
      "        [5., 5.],\n",
      "        [6., 6.],\n",
      "        [7., 7.],\n",
      "        [8., 8.],\n",
      "        [9., 9.]], device='cuda:0')\n",
      "torch.Size([2, 1])\n",
      "torch.Size([9, 1])\n"
     ]
    }
   ],
   "source": [
    "weights = torch.tensor([[1,2,3,4,5,6,7,8,9],[1,2,3,4,5,6,7,8,9]],device = 'cuda').float()\n",
    "print(weights.t().shape)\n",
    "print(weights.t())\n",
    "spikes = torch.tensor([[0],[1]],device = 'cuda').float()\n",
    "print(spikes.shape)\n",
    "post_input = torch.matmul(weights.t(), spikes)\n",
    "\n",
    "print(post_input.shape)\n"
   ]
  },
  {
   "cell_type": "code",
   "execution_count": 31,
   "metadata": {},
   "outputs": [
    {
     "name": "stdout",
     "output_type": "stream",
     "text": [
      "tensor([[0, 0, 0, 0, 0, 0, 0],\n",
      "        [0, 0, 0, 0, 0, 0, 0],\n",
      "        [1, 1, 1, 1, 1, 1, 1],\n",
      "        [0, 0, 0, 0, 0, 0, 0],\n",
      "        [0, 0, 0, 0, 0, 0, 0]])\n",
      "tensor([0, 0, 0, 0, 0, 0, 0, 0, 0, 0, 0, 0, 0, 0, 1, 1, 1, 1, 1, 1, 1, 0, 0, 0,\n",
      "        0, 0, 0, 0, 0, 0, 0, 0, 0, 0, 0])\n"
     ]
    }
   ],
   "source": [
    "input = torch.tensor([[0,0,0,0,0,0,0],[0,0,0,0,0,0,0],[1,1,1,1,1,1,1],[0,0,0,0,0,0,0],[0,0,0,0,0,0,0]])\n",
    "\n",
    "print(input)\n",
    "\n",
    "print(input.reshape(-1))"
   ]
  },
  {
   "cell_type": "code",
   "execution_count": 38,
   "metadata": {},
   "outputs": [
    {
     "name": "stdout",
     "output_type": "stream",
     "text": [
      "[0, 1, 0, 1]\n"
     ]
    },
    {
     "data": {
      "image/png": "[encoded data removed]",
      "text/plain": [
       "<Figure size 432x288 with 1 Axes>"
      ]
     },
     "metadata": {
      "needs_background": "light"
     },
     "output_type": "display_data"
    }
   ],
   "source": [
    "import matplotlib.pyplot as plt\n",
    "import numpy as np\n",
    "\n",
    "# Generate some random event data\n",
    "data = [0,1,0,1]\n",
    "print(data)\n",
    "# Create the event plot\n",
    "plt.eventplot(data)\n",
    "\n",
    "# Customize the plot\n",
    "plt.title('Event Plot Example')\n",
    "plt.xlabel('Time')\n",
    "plt.ylabel('Sequences')\n",
    "\n",
    "# Display the plot\n",
    "plt.show()"
   ]
  },
  {
   "cell_type": "code",
   "execution_count": 17,
   "metadata": {},
   "outputs": [
    {
     "name": "stdout",
     "output_type": "stream",
     "text": [
      "tensor([[3, 2, 3,  ..., 3, 1, 4],\n",
      "        [0, 0, 4,  ..., 3, 4, 2],\n",
      "        [4, 2, 0,  ..., 2, 0, 0],\n",
      "        ...,\n",
      "        [4, 4, 3,  ..., 1, 4, 4],\n",
      "        [1, 1, 3,  ..., 4, 4, 2],\n",
      "        [3, 2, 1,  ..., 0, 4, 3]])\n",
      "tensor([[1, 0, 1,  ..., 1, 1, 1],\n",
      "        [0, 1, 0,  ..., 1, 0, 0],\n",
      "        [1, 1, 0,  ..., 1, 1, 0],\n",
      "        [1, 1, 1,  ..., 0, 1, 0],\n",
      "        [1, 1, 0,  ..., 0, 0, 0]])\n",
      "tensor([[1, 1, 1,  ..., 0, 0, 0],\n",
      "        [1, 0, 0,  ..., 0, 0, 0],\n",
      "        [1, 1, 1,  ..., 1, 1, 1],\n",
      "        ...,\n",
      "        [1, 1, 1,  ..., 1, 0, 0],\n",
      "        [0, 1, 1,  ..., 0, 0, 0],\n",
      "        [1, 1, 0,  ..., 1, 0, 0]])\n",
      "torch.Size([374, 247])\n"
     ]
    }
   ],
   "source": [
    "import torch\n",
    "\n",
    "def calculate_output(pre_spike_times, weights, delays):\n",
    "    # 1. Pick the spike_train from pre_spike_times with index of delays\n",
    "    picked_spike_train = pre_spike_times.gather(0, delays)\n",
    "    \n",
    "    # 2. Calculate matmul with picked spike train and weights\n",
    "    output = torch.matmul(weights, picked_spike_train.t())\n",
    "    \n",
    "    return output\n",
    "\n",
    "# Sample tensors\n",
    "weights = torch.rand(374, 247)\n",
    "delays = torch.randint(0, 5, (374, 247))\n",
    "pre_spike_times = torch.randint(0, 2, (5, 247))\n",
    "\n",
    "# print(weights)\n",
    "print(delays)\n",
    "\n",
    "print(pre_spike_times)\n",
    "print(pre_spike_times.gather(0, delays))\n",
    "print(pre_spike_times.gather(0, delays).shape)\n",
    "\n",
    "# print(pre_spike_times)\n",
    "# Call the function\n",
    "# output = calculate_output(pre_spike_times, weights, delays)\n",
    "# print(output)"
   ]
  },
  {
   "cell_type": "code",
   "execution_count": 26,
   "metadata": {},
   "outputs": [
    {
     "name": "stdout",
     "output_type": "stream",
     "text": [
      "tensor([[1, 1],\n",
      "        [2, 2],\n",
      "        [3, 3]]) tensor([[1, 1],\n",
      "        [2, 2],\n",
      "        [3, 3]])\n",
      "tensor([[1, 1],\n",
      "        [4, 4],\n",
      "        [9, 9]])\n",
      "tensor([ 2,  8, 18])\n",
      "tensor([ 2,  8, 18])\n"
     ]
    }
   ],
   "source": [
    "import torch\n",
    "\n",
    "A = torch.tensor([[1,1],[2,2],[3,3]])\n",
    "B = torch.tensor([[1,1],[2,2],[3,3]])\n",
    "print(A,B)\n",
    "print(A*B)\n",
    "print(torch.sum(A*B,axis=1))\n",
    "print(torch.einsum('ij,ij->i', A, B))\n"
   ]
  }
 ],
 "metadata": {
  "kernelspec": {
   "display_name": "pytorch-CUDA10.1",
   "language": "python",
   "name": "python3"
  },
  "language_info": {
   "codemirror_mode": {
    "name": "ipython",
    "version": 3
   },
   "file_extension": ".py",
   "mimetype": "text/x-python",
   "name": "python",
   "nbconvert_exporter": "python",
   "pygments_lexer": "ipython3",
   "version": "3.6.13"
  },
  "orig_nbformat": 4
 },
 "nbformat": 4,
 "nbformat_minor": 2
}
