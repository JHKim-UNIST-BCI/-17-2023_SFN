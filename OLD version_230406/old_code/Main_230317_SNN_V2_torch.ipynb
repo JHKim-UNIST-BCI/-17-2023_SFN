{
 "cells": [
  {
   "cell_type": "code",
   "execution_count": 1,
   "metadata": {},
   "outputs": [],
   "source": [
    "%matplotlib inline\n",
    "%load_ext autoreload\n",
    "%autoreload 2\n",
    "\n",
    "import numpy as np\n",
    "import time\n",
    "import scipy.io\n",
    "import matplotlib.pyplot as plt\n",
    "\n",
    "import torch.nn as nn\n",
    "import torch\n",
    "\n",
    "from Function.Stimulation_GPU import *\n",
    "from Function.ReceptiveField_GPU import *\n",
    "from Function.plot_SNN import *\n",
    "from Function.SNN_JHK_v3_230317_torch import SNNModel\n",
    "from Function.SNNModule import *\n"
   ]
  },
  {
   "cell_type": "code",
   "execution_count": 2,
   "metadata": {},
   "outputs": [
    {
     "name": "stdout",
     "output_type": "stream",
     "text": [
      "GPU available: True\n",
      "CUDA version: 10.1\n"
     ]
    }
   ],
   "source": [
    "print(\"GPU available:\", torch.cuda.is_available())\n",
    "print(\"CUDA version:\", torch.version.cuda)\n",
    "\n",
    "# Enable GPU support if available\n",
    "# device = torch.device(\"cuda\" if torch.cuda.is_available() else \"cpu\")\n",
    "device = \"cpu\""
   ]
  },
  {
   "cell_type": "code",
   "execution_count": 3,
   "metadata": {},
   "outputs": [],
   "source": [
    "# # on mac\n",
    "# device = torch.device('mps:0' if torch.backends.mps.is_available() else 'cpu')\n",
    "\n",
    "# print (f\"PyTorch version:{torch.__version__}\") # 1.12.1 이상\n",
    "# print(f\"MPS 장치를 지원하도록 build 되었는지: {torch.backends.mps.is_built()}\") # True 여야 합니다.\n",
    "# print(f\"MPS 장치가 사용 가능한지: {torch.backends.mps.is_available()}\") # True 여야 합니다.\n",
    "# !python -c 'import platform;print(platform.platform())'"
   ]
  },
  {
   "cell_type": "code",
   "execution_count": 4,
   "metadata": {},
   "outputs": [],
   "source": [
    "sensor_h, sensor_w = 19, 16 #(mm)\n",
    "pixel_h, pixel_w = 64, 48 # (#)\n",
    "img_FPS = 60"
   ]
  },
  {
   "cell_type": "code",
   "execution_count": 5,
   "metadata": {},
   "outputs": [
    {
     "name": "stderr",
     "output_type": "stream",
     "text": [
      "c:\\Users\\JaehunKim\\anaconda3\\envs\\pytorch-CUDA10.1\\lib\\site-packages\\ipykernel_launcher.py:18: MatplotlibDeprecationWarning: You are modifying the state of a globally registered colormap. In future versions, you will not be able to modify a registered colormap in-place. To remove this warning, you can make a copy of the colormap first. cmap = copy.copy(mpl.cm.get_cmap(\"jet\"))\n"
     ]
    }
   ],
   "source": [
    "num_stim = 1000\n",
    "\n",
    "# Generate the sequence of F values\n",
    "max_F = 10\n",
    "F_array = np.concatenate([\n",
    "    np.zeros((100,)),\n",
    "    np.linspace(0, max_F, 200),\n",
    "    np.full((400,), max_F),\n",
    "    np.linspace(max_F, 0, 200),\n",
    "    np.zeros((100,))\n",
    "])\n",
    "\n",
    "# Preallocate the stimulation_full array\n",
    "stimulation_full = torch.zeros((pixel_h, pixel_w, num_stim),device = device)\n",
    "\n",
    "# Create a color map with a range of 0 to max_F\n",
    "cmap = plt.cm.get_cmap('jet')\n",
    "cmap.set_under('k')\n",
    "\n",
    "# Iterate over F_array and generate the stimuli\n",
    "for i, F_i in enumerate(F_array):\n",
    "    stim_dot = full_stim(F=F_i, pixel_h=pixel_h, pixel_w=pixel_w)\n",
    "    stimulation_full[:, :, i] = stim_dot\n",
    "    \n",
    "    # if i % 200 == 0:\n",
    "    #     plt.imshow(stimulation_full[:, :, i].cpu(),\n",
    "    #                cmap=cmap, vmin=0, vmax=max_F)\n",
    "        \n",
    "    #     plt.show()\n",
    "        \n"
   ]
  },
  {
   "cell_type": "code",
   "execution_count": 6,
   "metadata": {},
   "outputs": [
    {
     "name": "stdout",
     "output_type": "stream",
     "text": [
      "Complete! Generated 70 receptive fields from mechanoreceptor to afferents with kernel size 10x10.\n",
      "Complete! Generated 54 receptive fields from mechanoreceptor to afferents with kernel size 15x15.\n",
      "torch.Size([70, 3072])\n",
      "Complete! Generated 67 receptive fields from afferents to the top with kernel size 7x7.\n",
      "Complete! Generated 41 receptive fields from afferents to the top with kernel size 7x7.\n",
      "torch.Size([67, 70])\n"
     ]
    }
   ],
   "source": [
    "SA_rf,[SA_top_h,SA_top_v] = generate_mechanoreceptor_to_afferent_rf()\n",
    "RA_rf,[RA_top_h,RA_top_v] = generate_mechanoreceptor_to_afferent_rf(kernel_w=15, kernel_h=15)\n",
    "\n",
    "print(SA_rf.shape)\n",
    "receptive_field_init = [torch.tensor([[5, -2.5], [5, -2.5], [5, -2.5], [5, -2.5], [5, -2.5]], device=device),\n",
    "                        torch.tensor([[5, 5, 5, 5, 5], [-2.5, -2.5, -2.5, -2.5, -2.5]], device=device),\n",
    "                        10 * torch.ones((7, 7), device=device)]\n",
    "\n",
    "SA_rf_top, SA_rf_length = generate_afferent_to_top_rf(receptive_field_init, pixel_h=SA_top_v,\n",
    "                                                                            pixel_w=SA_top_h, step_size=1)\n",
    "\n",
    "RA_rf_top, RA_length = generate_afferent_to_top_rf(receptive_field_init, pixel_h=RA_top_v,\n",
    "                                                                              pixel_w=RA_top_h, step_size=1)\n",
    "\n",
    "print(SA_rf_top.shape)"
   ]
  },
  {
   "cell_type": "code",
   "execution_count": 7,
   "metadata": {},
   "outputs": [
    {
     "name": "stdout",
     "output_type": "stream",
     "text": [
      "layer initialized\n",
      "layer initialized\n",
      "layer initialized\n",
      "layer initialized\n"
     ]
    }
   ],
   "source": [
    "# Create Izhikevich layers\n",
    "SA_layers = [\n",
    "    IzhikevichLayer(0.02, 0.2, -65, 8, len(SA_rf), a_decay=1.01,device=device),\n",
    "    IzhikevichLayer(0.1, 0.2, -65, 6, len(SA_rf_top), a_decay=1.01,device=device)\n",
    "    ]\n",
    "\n",
    "# Create synapses\n",
    "SA_synapses = [\n",
    "    Synapse(SA_rf.to(device),device = device),\n",
    "    Synapse(SA_rf_top.to(device),device = device)\n",
    "    ]\n",
    "\n",
    "RA_layers = [\n",
    "    IzhikevichLayer(0.02, 0.2, -65, 8, len(RA_rf), a_decay=1,device=device),\n",
    "    IzhikevichLayer(0.02, 0.2, -65, 8, len(RA_rf_top), a_decay=1,device=device)\n",
    "    ]\n",
    "\n",
    "RA_synapses =[\n",
    "    Synapse(RA_rf.to(device),device = device),\n",
    "    Synapse(RA_rf_top.to(device),device = device)\n",
    "    ]\n",
    "    "
   ]
  },
  {
   "cell_type": "code",
   "execution_count": 12,
   "metadata": {},
   "outputs": [
    {
     "name": "stdout",
     "output_type": "stream",
     "text": [
      "1000\n",
      "Initializing SNN Model with 2 layers with device cpu\n",
      "0.33827972412109375\n",
      "torch.Size([70, 999])\n"
     ]
    }
   ],
   "source": [
    "stim = stimulation_full.to(device)\n",
    "print(stim.shape[2])\n",
    "\n",
    "SA = SNNModel(SA_layers,device)\n",
    "\n",
    "start_time = time.time()\n",
    "\n",
    "spike_times = SA.feedforward(stim,SA_synapses)\n",
    "\n",
    "end_time = time.time()\n",
    "vectorized_time = end_time - start_time\n",
    "print(vectorized_time)\n",
    "\n",
    "print(spike_times[0].shape)"
   ]
  }
 ],
 "metadata": {
  "kernelspec": {
   "display_name": "SNN",
   "language": "python",
   "name": "python3"
  },
  "language_info": {
   "codemirror_mode": {
    "name": "ipython",
    "version": 3
   },
   "file_extension": ".py",
   "mimetype": "text/x-python",
   "name": "python",
   "nbconvert_exporter": "python",
   "pygments_lexer": "ipython3",
   "version": "3.6.13"
  },
  "orig_nbformat": 4
 },
 "nbformat": 4,
 "nbformat_minor": 2
}
