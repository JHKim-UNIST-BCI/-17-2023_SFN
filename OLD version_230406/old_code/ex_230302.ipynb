{
 "cells": [
  {
   "cell_type": "code",
   "execution_count": 1,
   "metadata": {},
   "outputs": [
    {
     "data": {
      "image/png": "[encoded data removed]",
      "text/plain": [
       "<Figure size 640x480 with 3 Axes>"
      ]
     },
     "metadata": {},
     "output_type": "display_data"
    }
   ],
   "source": [
    "%matplotlib inline\n",
    "from matplotlib import pyplot as plt\n",
    "from matplotlib import animation\n",
    "import numpy as np\n",
    "import random\n",
    "\n",
    "fig = plt.figure()\n",
    "ax1 = fig.add_subplot(311, xlim=(0, 50), ylim=(0, 200))\n",
    "ax2 = fig.add_subplot(312, xlim=(0, 50), ylim=(-90, 40))\n",
    "ax3 = fig.add_subplot(313, xlim=(0, 50), ylim=(-90, 40))\n",
    "\n",
    "max_point = 50\n",
    "line, = ax1.plot(np.arange(max_point), np.ones(\n",
    "    max_point, dtype=float)*np.nan, lw=2)\n",
    "line2, = ax2.plot(np.arange(max_point), np.ones(\n",
    "    max_point, dtype=float)*(-70), lw=2)\n",
    "line3, = ax3.plot(np.arange(max_point), np.ones(\n",
    "    max_point, dtype=float)*(-20), lw=2)\n",
    "\n",
    "paused = False  # Initialize pause flag to False\n"
   ]
  },
  {
   "cell_type": "code",
   "execution_count": 38,
   "metadata": {},
   "outputs": [],
   "source": [
    "def get_data_func():\n",
    "    return random.randrange(50, 150)\n",
    "\n",
    "\n",
    "def izhikevich(a, b, c, d):\n",
    "    def model(old_Vu, I):\n",
    "        V, u = old_Vu\n",
    "        dV_dt = 0.04 * V ** 2 + 5 * V + 140 - u + I\n",
    "        du_dt = a * (b * V - u)\n",
    "        if V + dV_dt >= 30:  # Check if neuron has spiked\n",
    "            V = c\n",
    "            u = u + d\n",
    "        else:\n",
    "            V = V + dV_dt\n",
    "            u = u + du_dt\n",
    "        return [V, u]\n",
    "    return model\n",
    "\n",
    "\n",
    "model = izhikevich(0.02, 0.2, -65, 8)\n"
   ]
  },
  {
   "cell_type": "code",
   "execution_count": 39,
   "metadata": {},
   "outputs": [],
   "source": [
    "def animate(i):\n",
    "    global paused\n",
    "    if paused:\n",
    "        y = float(get_data_func())\n",
    "        old_y = line.get_ydata()\n",
    "        new_y = np.r_[old_y[1:], y]\n",
    "        line.set_ydata(new_y)\n",
    "\n",
    "        old_V = line2.get_ydata()\n",
    "        old_u = line3.get_ydata()\n",
    "        V, u = model([old_V[-1], old_u[-1]], y)\n",
    "        new_V = np.r_[old_V[-1], V]\n",
    "        new_u = np.r_[old_u[-1], u]\n",
    "        line2.set_ydata(new_V)\n",
    "        line3.set_ydata(new_u)\n",
    "    else:\n",
    "        y = 0\n",
    "        old_y = line.get_ydata()\n",
    "        new_y = np.r_[old_y[1:], y]\n",
    "        line.set_ydata(new_y)\n",
    "\n",
    "        old_V = line2.get_ydata()\n",
    "        old_u = line3.get_ydata()\n",
    "        V, u = model([old_V[-1], old_u[-1]], y)\n",
    "        new_V = np.r_[old_V[-1], V]\n",
    "        new_u = np.r_[old_u[-1], u]\n",
    "        line2.set_ydata(new_V)\n",
    "        line3.set_ydata(new_u)\n",
    "    return line, line2, line3\n"
   ]
  },
  {
   "cell_type": "code",
   "execution_count": 40,
   "metadata": {},
   "outputs": [
    {
     "name": "stderr",
     "output_type": "stream",
     "text": [
      "c:\\Users\\JaehunKim\\anaconda3\\envs\\SNN\\lib\\site-packages\\matplotlib\\animation.py:887: UserWarning: Animation was deleted without rendering anything. This is most likely not intended. To prevent deletion, assign the Animation to a variable, e.g. `anim`, that exists until you have outputted the Animation using `plt.show()` or `anim.save()`.\n",
      "  warnings.warn(\n"
     ]
    }
   ],
   "source": [
    "def on_space_press(event):\n",
    "    global paused\n",
    "    if event.key == ' ':\n",
    "        paused = True\n",
    "\n",
    "\n",
    "def on_space_release(event):\n",
    "    global paused\n",
    "    if event.key == ' ':\n",
    "        paused = False\n",
    "\n",
    "\n",
    "anim = animation.FuncAnimation(\n",
    "    fig, animate,\n",
    "    init_func=lambda: (line, line2, line3),\n",
    "    interval=20\n",
    ")"
   ]
  },
  {
   "cell_type": "code",
   "execution_count": 41,
   "metadata": {},
   "outputs": [],
   "source": [
    "fig.canvas.mpl_connect('key_press_event', on_space_press)\n",
    "fig.canvas.mpl_connect('key_release_event', on_space_release)\n",
    "\n",
    "plt.show()\n"
   ]
  }
 ],
 "metadata": {
  "kernelspec": {
   "display_name": "SNN",
   "language": "python",
   "name": "python3"
  },
  "language_info": {
   "codemirror_mode": {
    "name": "ipython",
    "version": 3
   },
   "file_extension": ".py",
   "mimetype": "text/x-python",
   "name": "python",
   "nbconvert_exporter": "python",
   "pygments_lexer": "ipython3",
   "version": "3.8.16"
  },
  "orig_nbformat": 4
 },
 "nbformat": 4,
 "nbformat_minor": 2
}
