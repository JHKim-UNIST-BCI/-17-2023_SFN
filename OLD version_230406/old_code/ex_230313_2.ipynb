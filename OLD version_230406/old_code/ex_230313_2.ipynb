{
 "cells": [
  {
   "cell_type": "code",
   "execution_count": 2,
   "metadata": {},
   "outputs": [],
   "source": [
    "import numpy as np\n",
    "import matplotlib.pyplot as plt\n",
    "import keras.backend as K\n",
    "\n",
    "# Define the Izhikevich neuron model\n",
    "\n",
    "\n",
    "def izhikevich(v, u, a, b, c, d, dt, I):\n",
    "    v_new = v + dt * (0.04 * v**2 + 5 * v + 140 - u + I)\n",
    "    u_new = u + dt * a * (b * v - u)\n",
    "    spike = K.cast(v_new >= 30.0, dtype='float32')\n",
    "    v_new = (1 - spike) * v_new + spike * c\n",
    "    u_new = (1 - spike) * u_new + spike * (u + d)\n",
    "    return v_new, u_new, spike\n",
    "\n",
    "\n",
    "# Simulate a single Izhikevich neuron\n",
    "v = -65.0  # initial membrane potential (mV)\n",
    "u = 0.2 * v  # initial recovery variable (pA)\n",
    "a = 0.02  # time scale of recovery variable (ms)\n",
    "b = 0.2  # sensitivity of recovery to subthreshold fluctuations\n",
    "c = -65.0  # reset value of membrane potential after spike (mV)\n",
    "d = 8.0  # reset value of recovery variable after spike (pA)\n",
    "dt = 0.1  # time step size (ms)\n",
    "I = 50.0  # input current amplitude (pA)\n",
    "t_max = 1000.0  # maximum simulation time (ms)\n",
    "\n",
    "n_steps = int(t_max / dt)\n",
    "t = np.arange(n_steps) * dt\n",
    "spikes = np.zeros(n_steps)\n"
   ]
  },
  {
   "cell_type": "code",
   "execution_count": 3,
   "metadata": {},
   "outputs": [],
   "source": [
    "for i in range(n_steps):\n",
    "    v, u, spike = izhikevich(v, u, a, b, c, d, dt, I)\n",
    "    spikes[i] = spike\n",
    "\n"
   ]
  },
  {
   "cell_type": "code",
   "execution_count": 4,
   "metadata": {},
   "outputs": [
    {
     "name": "stdout",
     "output_type": "stream",
     "text": [
      "[0. 0. 0. ... 0. 0. 0.]\n"
     ]
    }
   ],
   "source": [
    "print(spikes)"
   ]
  },
  {
   "cell_type": "code",
   "execution_count": null,
   "metadata": {},
   "outputs": [],
   "source": [
    "\n",
    "# Plot the membrane potential and spike train\n",
    "fig, ax = plt.subplots(nrows=2, ncols=1, sharex=True, figsize=(8, 6))\n",
    "ax[0].plot(t, v, label='membrane potential')\n",
    "ax[0].set_ylabel('Voltage (mV)')\n",
    "ax[0].legend()\n",
    "ax[1].plot(t, spikes, label='spike train')\n",
    "ax[1].set_xlabel('Time (ms)')\n",
    "ax[1].set_ylabel('Spikes')\n",
    "ax[1].legend()\n",
    "plt.show()\n"
   ]
  }
 ],
 "metadata": {
  "kernelspec": {
   "display_name": "SNN",
   "language": "python",
   "name": "python3"
  },
  "language_info": {
   "codemirror_mode": {
    "name": "ipython",
    "version": 3
   },
   "file_extension": ".py",
   "mimetype": "text/x-python",
   "name": "python",
   "nbconvert_exporter": "python",
   "pygments_lexer": "ipython3",
   "version": "3.8.16"
  },
  "orig_nbformat": 4
 },
 "nbformat": 4,
 "nbformat_minor": 2
}
