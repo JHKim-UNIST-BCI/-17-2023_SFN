{
 "cells": [
  {
   "cell_type": "code",
   "execution_count": 1,
   "metadata": {},
   "outputs": [],
   "source": [
    "import torch\n",
    "import numpy as np\n",
    "\n",
    "\n",
    "class IzhikevichLayer(torch.nn.Module):\n",
    "    def __init__(self, a, b, c, d, num_neurons):\n",
    "        super(IzhikevichLayer, self).__init__()\n",
    "        self.a = a\n",
    "        self.b = b\n",
    "        self.c = c\n",
    "        self.d = d\n",
    "        self.num_neurons = num_neurons\n",
    "        self.v = torch.ones((self.num_neurons,), device='cuda') * -65\n",
    "        self.u = self.b * self.v\n",
    "        self.spikes = torch.zeros((self.num_neurons,), device='cuda')\n",
    "\n",
    "    def forward(self, I):\n",
    "        dv = (0.04 * self.v**2 + 5 * self.v + 140 - self.u + I)\n",
    "        du = (self.a * (self.b * self.v - self.u))\n",
    "        self.v += dv\n",
    "        self.u += du\n",
    "        self.spikes = torch.where(self.v >= 30, torch.ones_like(\n",
    "            self.spikes), torch.zeros_like(self.spikes))\n",
    "        self.v = torch.where(self.v >= 30, self.c, self.v)\n",
    "        self.u = torch.where(self.v >= 30, self.u + self.d, self.u)\n",
    "        return self.spikes\n"
   ]
  },
  {
   "cell_type": "code",
   "execution_count": 2,
   "metadata": {},
   "outputs": [],
   "source": [
    "# Set up the network\n",
    "num_neurons = 1000\n",
    "input_size = 784\n",
    "hidden_size = 256\n",
    "output_size = 10\n",
    "learning_rate = 0.01"
   ]
  },
  {
   "cell_type": "code",
   "execution_count": 4,
   "metadata": {},
   "outputs": [
    {
     "ename": "AssertionError",
     "evalue": "Torch not compiled with CUDA enabled",
     "output_type": "error",
     "traceback": [
      "\u001b[1;31m---------------------------------------------------------------------------\u001b[0m",
      "\u001b[1;31mAssertionError\u001b[0m                            Traceback (most recent call last)",
      "Cell \u001b[1;32mIn[4], line 1\u001b[0m\n\u001b[1;32m----> 1\u001b[0m izhikevich_layer \u001b[39m=\u001b[39m IzhikevichLayer(\n\u001b[0;32m      2\u001b[0m     a\u001b[39m=\u001b[39;49m\u001b[39m0.02\u001b[39;49m, b\u001b[39m=\u001b[39;49m\u001b[39m0.2\u001b[39;49m, c\u001b[39m=\u001b[39;49m\u001b[39m-\u001b[39;49m\u001b[39m65\u001b[39;49m, d\u001b[39m=\u001b[39;49m\u001b[39m8\u001b[39;49m, num_neurons\u001b[39m=\u001b[39;49mnum_neurons)\n\u001b[0;32m      3\u001b[0m linear_layer1 \u001b[39m=\u001b[39m torch\u001b[39m.\u001b[39mnn\u001b[39m.\u001b[39mLinear(input_size, hidden_size)\n\u001b[0;32m      4\u001b[0m linear_layer2 \u001b[39m=\u001b[39m torch\u001b[39m.\u001b[39mnn\u001b[39m.\u001b[39mLinear(hidden_size, output_size)\n",
      "Cell \u001b[1;32mIn[1], line 13\u001b[0m, in \u001b[0;36mIzhikevichLayer.__init__\u001b[1;34m(self, a, b, c, d, num_neurons)\u001b[0m\n\u001b[0;32m     11\u001b[0m \u001b[39mself\u001b[39m\u001b[39m.\u001b[39md \u001b[39m=\u001b[39m d\n\u001b[0;32m     12\u001b[0m \u001b[39mself\u001b[39m\u001b[39m.\u001b[39mnum_neurons \u001b[39m=\u001b[39m num_neurons\n\u001b[1;32m---> 13\u001b[0m \u001b[39mself\u001b[39m\u001b[39m.\u001b[39mv \u001b[39m=\u001b[39m torch\u001b[39m.\u001b[39;49mones((\u001b[39mself\u001b[39;49m\u001b[39m.\u001b[39;49mnum_neurons,), device\u001b[39m=\u001b[39;49m\u001b[39m'\u001b[39;49m\u001b[39mcuda\u001b[39;49m\u001b[39m'\u001b[39;49m) \u001b[39m*\u001b[39m \u001b[39m-\u001b[39m\u001b[39m65\u001b[39m\n\u001b[0;32m     14\u001b[0m \u001b[39mself\u001b[39m\u001b[39m.\u001b[39mu \u001b[39m=\u001b[39m \u001b[39mself\u001b[39m\u001b[39m.\u001b[39mb \u001b[39m*\u001b[39m \u001b[39mself\u001b[39m\u001b[39m.\u001b[39mv\n\u001b[0;32m     15\u001b[0m \u001b[39mself\u001b[39m\u001b[39m.\u001b[39mspikes \u001b[39m=\u001b[39m torch\u001b[39m.\u001b[39mzeros((\u001b[39mself\u001b[39m\u001b[39m.\u001b[39mnum_neurons,), device\u001b[39m=\u001b[39m\u001b[39m'\u001b[39m\u001b[39mcuda\u001b[39m\u001b[39m'\u001b[39m)\n",
      "File \u001b[1;32mc:\\Users\\JaehunKim\\anaconda3\\envs\\SNN\\lib\\site-packages\\torch\\cuda\\__init__.py:211\u001b[0m, in \u001b[0;36m_lazy_init\u001b[1;34m()\u001b[0m\n\u001b[0;32m    207\u001b[0m     \u001b[39mraise\u001b[39;00m \u001b[39mRuntimeError\u001b[39;00m(\n\u001b[0;32m    208\u001b[0m         \u001b[39m\"\u001b[39m\u001b[39mCannot re-initialize CUDA in forked subprocess. To use CUDA with \u001b[39m\u001b[39m\"\u001b[39m\n\u001b[0;32m    209\u001b[0m         \u001b[39m\"\u001b[39m\u001b[39mmultiprocessing, you must use the \u001b[39m\u001b[39m'\u001b[39m\u001b[39mspawn\u001b[39m\u001b[39m'\u001b[39m\u001b[39m start method\u001b[39m\u001b[39m\"\u001b[39m)\n\u001b[0;32m    210\u001b[0m \u001b[39mif\u001b[39;00m \u001b[39mnot\u001b[39;00m \u001b[39mhasattr\u001b[39m(torch\u001b[39m.\u001b[39m_C, \u001b[39m'\u001b[39m\u001b[39m_cuda_getDeviceCount\u001b[39m\u001b[39m'\u001b[39m):\n\u001b[1;32m--> 211\u001b[0m     \u001b[39mraise\u001b[39;00m \u001b[39mAssertionError\u001b[39;00m(\u001b[39m\"\u001b[39m\u001b[39mTorch not compiled with CUDA enabled\u001b[39m\u001b[39m\"\u001b[39m)\n\u001b[0;32m    212\u001b[0m \u001b[39mif\u001b[39;00m _cudart \u001b[39mis\u001b[39;00m \u001b[39mNone\u001b[39;00m:\n\u001b[0;32m    213\u001b[0m     \u001b[39mraise\u001b[39;00m \u001b[39mAssertionError\u001b[39;00m(\n\u001b[0;32m    214\u001b[0m         \u001b[39m\"\u001b[39m\u001b[39mlibcudart functions unavailable. It looks like you have a broken build?\u001b[39m\u001b[39m\"\u001b[39m)\n",
      "\u001b[1;31mAssertionError\u001b[0m: Torch not compiled with CUDA enabled"
     ]
    }
   ],
   "source": [
    "izhikevich_layer = IzhikevichLayer(\n",
    "    a=0.02, b=0.2, c=-65, d=8, num_neurons=num_neurons)\n",
    "linear_layer1 = torch.nn.Linear(input_size, hidden_size)\n",
    "linear_layer2 = torch.nn.Linear(hidden_size, output_size)\n"
   ]
  }
 ],
 "metadata": {
  "kernelspec": {
   "display_name": "SNN",
   "language": "python",
   "name": "python3"
  },
  "language_info": {
   "codemirror_mode": {
    "name": "ipython",
    "version": 3
   },
   "file_extension": ".py",
   "mimetype": "text/x-python",
   "name": "python",
   "nbconvert_exporter": "python",
   "pygments_lexer": "ipython3",
   "version": "3.8.16"
  },
  "orig_nbformat": 4
 },
 "nbformat": 4,
 "nbformat_minor": 2
}
