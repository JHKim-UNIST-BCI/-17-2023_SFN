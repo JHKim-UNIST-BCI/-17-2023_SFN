{
 "cells": [
  {
   "cell_type": "code",
   "execution_count": 2,
   "metadata": {},
   "outputs": [],
   "source": [
    "import torch\n",
    "import torch.nn as nn"
   ]
  },
  {
   "cell_type": "code",
   "execution_count": 3,
   "metadata": {},
   "outputs": [
    {
     "name": "stdout",
     "output_type": "stream",
     "text": [
      "GPU available: True\n",
      "CUDA version: 10.1\n"
     ]
    }
   ],
   "source": [
    "print(\"GPU available:\", torch.cuda.is_available())\n",
    "print(\"CUDA version:\", torch.version.cuda)"
   ]
  },
  {
   "cell_type": "code",
   "execution_count": 4,
   "metadata": {},
   "outputs": [
    {
     "name": "stdout",
     "output_type": "stream",
     "text": [
      "CPU time: 0.022041 seconds\n",
      "GPU time: 0.493315 seconds\n",
      "Speedup factor: 0.04 times\n"
     ]
    }
   ],
   "source": [
    "import torch\n",
    "import time\n",
    "\n",
    "# Create two random tensors\n",
    "size = 1000\n",
    "tensor_a = torch.randn(size, size)\n",
    "tensor_b = torch.randn(size, size)\n",
    "\n",
    "# Perform matrix multiplication on the CPU\n",
    "start_time_cpu = time.time()\n",
    "result_cpu = torch.matmul(tensor_a, tensor_b)\n",
    "end_time_cpu = time.time()\n",
    "\n",
    "# Check if a GPU is available\n",
    "if torch.cuda.is_available():\n",
    "    # Move tensors to the GPU\n",
    "    tensor_a = tensor_a.to(\"cuda\")\n",
    "    tensor_b = tensor_b.to(\"cuda\")\n",
    "    \n",
    "    # Perform matrix multiplication on the GPU\n",
    "    start_time_gpu = time.time()\n",
    "    result_gpu = torch.matmul(tensor_a, tensor_b)\n",
    "    torch.cuda.synchronize()  # Wait for all GPU operations to finish\n",
    "    end_time_gpu = time.time()\n",
    "\n",
    "    # Calculate and print the speedup factor\n",
    "    cpu_time = end_time_cpu - start_time_cpu\n",
    "    gpu_time = end_time_gpu - start_time_gpu\n",
    "    print(f\"CPU time: {cpu_time:.6f} seconds\")\n",
    "    print(f\"GPU time: {gpu_time:.6f} seconds\")\n",
    "    print(f\"Speedup factor: {cpu_time / gpu_time:.2f} times\")\n",
    "else:\n",
    "    print(\"No GPU available. Cannot compare CPU and GPU performance.\")\n"
   ]
  }
 ],
 "metadata": {
  "kernelspec": {
   "display_name": "SNN",
   "language": "python",
   "name": "python3"
  },
  "language_info": {
   "codemirror_mode": {
    "name": "ipython",
    "version": 3
   },
   "file_extension": ".py",
   "mimetype": "text/x-python",
   "name": "python",
   "nbconvert_exporter": "python",
   "pygments_lexer": "ipython3",
   "version": "3.6.13"
  },
  "orig_nbformat": 4
 },
 "nbformat": 4,
 "nbformat_minor": 2
}
