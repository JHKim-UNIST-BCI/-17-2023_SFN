{
 "cells": [
  {
   "cell_type": "code",
   "execution_count": 4,
   "metadata": {},
   "outputs": [
    {
     "name": "stdout",
     "output_type": "stream",
     "text": [
      "The autoreload extension is already loaded. To reload it, use:\n",
      "  %reload_ext autoreload\n",
      "GPU available: False\n",
      "CUDA version: None\n",
      "Using device: cpu\n"
     ]
    }
   ],
   "source": [
    "# Author: Jaehun Kim\n",
    "# Email: rlawogns1204@unist.ac.kr\n",
    "# Affiliation: UNIST BME BCILAB\n",
    "# Date: 2023-07-14\n",
    "#\n",
    "# This code implements a tactile information processing model using a spiking\n",
    "# neural network (SNN). It simulates the processing of tactile information from\n",
    "# mechanoreceptors in the skin through primary afferent fibers (PA), cuneate nucleus\n",
    "# neurons (PN and IN), and ultimately, somatosensory cortex neurons. The model\n",
    "# incorporates lateral inhibition and various receptive field properties to\n",
    "# represent a realistic processing of touch stimuli.\n",
    "\n",
    "# with DIGIT-sensor\n",
    "import torch\n",
    "import torch.nn as nn\n",
    "import matplotlib.pyplot as plt\n",
    "import scipy.io\n",
    "import time\n",
    "import numpy as np\n",
    "from PIL import Image\n",
    "import io\n",
    "import datetime\n",
    "import cv2\n",
    "from sklearn.model_selection import train_test_split\n",
    "from sklearn import svm\n",
    "from sklearn.metrics import accuracy_score\n",
    "from tqdm import tqdm\n",
    "\n",
    "from Function.snn_IZHIlayers import *\n",
    "from Function.snn_plot import *\n",
    "from Function.snn_simulation import *\n",
    "from Function.snn_stimulation import *\n",
    "from Function.snn_receptive_field_weights import *\n",
    "\n",
    "from line_profiler import LineProfiler\n",
    "\n",
    "%matplotlib inline\n",
    "%load_ext autoreload\n",
    "%autoreload 2\n",
    "\n",
    "print(f\"GPU available: {torch.cuda.is_available()}\")\n",
    "print(f\"CUDA version: {torch.version.cuda}\")\n",
    "device = torch.device(\"cuda\" if torch.cuda.is_available() else \"cpu\")\n",
    "device = 'cpu'\n",
    "print(f\"Using device: {device}\")\\\n",
    "\n",
    "# Set sensor dimensions (height and width in millimeters)\n",
    "sensor_h, sensor_w = 19, 16\n",
    "# Set pixel dimensions (number of pixels in height and width)\n",
    "# pixel_h, pixel_w = 320, 240///\n",
    "pixel_h, pixel_w = 64,48\n",
    "# Set image frames per second (FPS) of tactile sensor\n",
    "image_FPS = 60"
   ]
  },
  {
   "cell_type": "code",
   "execution_count": 11,
   "metadata": {},
   "outputs": [
    {
     "name": "stdout",
     "output_type": "stream",
     "text": [
      "[1.5707963267948966, 3.141592653589793]\n",
      "torch.Size([88, 3072])\n",
      "sa_rf shape: torch.Size([88, 3072]) with height = 11 with width = 8\n",
      "ra_rf shape: torch.Size([130, 3072]) with height = 13 with width = 10\n",
      "sa_cn_pn_rf shape:  torch.Size([54, 88]) sa_cn_pn_step_height: 9 sa_cn_pn_step_width: 6\n",
      "sa_cn_in_rf shape:  torch.Size([54, 88]) sa_cn_in_step_height: 9 sa_cn_in_step_width: 6\n",
      "ra_cn_pn_rf shape:  torch.Size([88, 130]) ra_cn_pn_step_height: 11 ra_cn_pn_step_width: 8\n",
      "ra_cn_in_rf shape:  torch.Size([88, 130]) ra_cn_in_step_height: 11 ra_cn_in_step_width: 8\n",
      "sa_intopn_rf shape:  torch.Size([54, 54])\n",
      "ra_intopn_rf shape:  torch.Size([88, 88])\n",
      "cn_pn_sa_rf shape:  torch.Size([56, 54]) cn_pn_sa_rf_step_height: 7 cn_pn_sa_rf_step_width: 4\n",
      "cn_in_sa_rf shape:  torch.Size([56, 54]) cn_in_sa_rf_step_height: 7 cn_in_sa_rf_step_width: 4\n",
      "cn_pn_ra_rf shape:  torch.Size([56, 88]) cn_pn_ra_rf_step_height: 7 cn_pn_ra_rf_step_width: 4\n",
      "cn_in_ra_rf shape:  torch.Size([56, 88]) cn_in_ra_rf_step_height: 7 cn_in_ra_rf_step_width: 4\n",
      "cn_intopn_rf shape:  torch.Size([56, 56])\n"
     ]
    }
   ],
   "source": [
    "R = ReceptiveFieldWeights(pixel_h, pixel_w, device, type_output = [np.pi/2,np.pi], plot_receptive_field = False,plot_ind = 1)"
   ]
  },
  {
   "cell_type": "code",
   "execution_count": 21,
   "metadata": {},
   "outputs": [],
   "source": [
    "stim = generate_speed_bar_stimuli(num_stim=1000, speed=19, direction='vert', angle= 0, pixel_h=64, pixel_w=48, F=10, show_frames=[])"
   ]
  },
  {
   "cell_type": "code",
   "execution_count": null,
   "metadata": {},
   "outputs": [],
   "source": []
  }
 ],
 "metadata": {
  "kernelspec": {
   "display_name": "pytorch-cpu-3.11",
   "language": "python",
   "name": "python3"
  },
  "language_info": {
   "codemirror_mode": {
    "name": "ipython",
    "version": 3
   },
   "file_extension": ".py",
   "mimetype": "text/x-python",
   "name": "python",
   "nbconvert_exporter": "python",
   "pygments_lexer": "ipython3",
   "version": "3.11.3"
  },
  "orig_nbformat": 4
 },
 "nbformat": 4,
 "nbformat_minor": 2
}
