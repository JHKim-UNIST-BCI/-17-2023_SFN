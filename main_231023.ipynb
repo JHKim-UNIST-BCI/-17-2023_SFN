{
 "cells": [
  {
   "cell_type": "code",
   "execution_count": 12,
   "metadata": {},
   "outputs": [
    {
     "name": "stdout",
     "output_type": "stream",
     "text": [
      "The autoreload extension is already loaded. To reload it, use:\n",
      "  %reload_ext autoreload\n"
     ]
    }
   ],
   "source": [
    "%load_ext autoreload\n",
    "%autoreload 2\n",
    "\n",
    "import torch\n",
    "import numpy as np\n",
    "import matplotlib.pyplot as plt\n",
    "\n",
    "from SNN.snn import *\n",
    "from SNN.Izhikevich import IzhikevichLayer\n",
    "from SNN.stimulation import *\n",
    "from SNN.receptive_field import *\n",
    "\n",
    "# Setup\n",
    "# device = torch.device(\"cuda\" if torch.cuda.is_available() else \"cpu\")\n",
    "device = 'cpu'\n"
   ]
  },
  {
   "cell_type": "code",
   "execution_count": 13,
   "metadata": {},
   "outputs": [
    {
     "data": {
      "image/png": "[encoded data removed]",
      "text/plain": [
       "<Figure size 432x288 with 1 Axes>"
      ]
     },
     "metadata": {},
     "output_type": "display_data"
    },
    {
     "data": {
      "text/plain": [
       "torch.Size([320, 240, 1])"
      ]
     },
     "execution_count": 13,
     "metadata": {},
     "output_type": "execute_result"
    }
   ],
   "source": [
    "# Set parameters for stimuli generation\n",
    "rotation_degree = 45\n",
    "num_frames = 1\n",
    "image_height = 320\n",
    "image_width = 240\n",
    "\n",
    "# Generate stimuli\n",
    "stimulation = generate_stimulus_series(rotation_degree, num_frames, image_height, image_width,amplitude = 1, visualize=True, device=device)\n",
    "\n",
    "stimulation.shape"
   ]
  },
  {
   "cell_type": "code",
   "execution_count": 14,
   "metadata": {},
   "outputs": [],
   "source": [
    "snn = SNN()\n"
   ]
  },
  {
   "cell_type": "code",
   "execution_count": 77,
   "metadata": {},
   "outputs": [
    {
     "data": {
      "text/plain": [
       "tensor([-70.7386, -70.7386, -70.7386, -70.7386, -70.7385, -70.7352, -70.3833,\n",
       "        -68.0734, -70.7386, -70.7386, -70.7386, -70.7386, -70.7335, -70.6772,\n",
       "        -69.4576, -26.3683, -70.7386, -70.7386, -70.7386, -70.7383, -70.7118,\n",
       "        -69.9628, -58.2488, -27.9651, -70.7386, -70.7385, -70.7384, -70.7247,\n",
       "        -69.8212, -39.6265, -20.4683, -21.5272, -70.7386, -70.7385, -70.7059,\n",
       "        -70.4320, -63.5990, -65.0000,  -5.1889, -39.5540, -70.7375, -70.7301,\n",
       "        -70.4018, -64.9407, -65.0000, -24.3057, -65.0000, -66.7095, -70.7322,\n",
       "        -70.5192, -65.7183, -65.0000, -20.3910, -65.0000, -65.0940, -70.0471,\n",
       "        -70.4316, -67.2446, -65.0000, -14.9200, -65.0000, -62.0063, -70.1564,\n",
       "        -70.7065, -68.8909, -51.8550, -17.8101, -65.0000, -54.7296, -70.2767,\n",
       "        -70.7229, -70.7383,  -9.6643, -33.1967, -23.0619, -60.7195, -69.6455,\n",
       "        -70.7121, -70.7384, -70.7386, -15.1993, -22.8031, -65.0000, -69.3370,\n",
       "        -70.7109, -70.7334, -70.7385, -70.7386])"
      ]
     },
     "execution_count": 77,
     "metadata": {},
     "output_type": "execute_result"
    }
   ],
   "source": [
    "sa_spikes, ra_spikes = snn(stimulation)\n",
    "sa_spikes, ra_spikes\n",
    "\n",
    "snn.sa_layer.v"
   ]
  },
  {
   "cell_type": "code",
   "execution_count": 80,
   "metadata": {},
   "outputs": [
    {
     "ename": "NameError",
     "evalue": "name 'sa_rf_dim' is not defined",
     "output_type": "error",
     "traceback": [
      "\u001b[1;31m---------------------------------------------------------------------------\u001b[0m",
      "\u001b[1;31mNameError\u001b[0m                                 Traceback (most recent call last)",
      "\u001b[1;32m<ipython-input-80-0b6cd2fc6287>\u001b[0m in \u001b[0;36m<module>\u001b[1;34m\u001b[0m\n\u001b[0;32m      6\u001b[0m \u001b[1;32mfor\u001b[0m \u001b[0m_\u001b[0m \u001b[1;32min\u001b[0m \u001b[0mrange\u001b[0m\u001b[1;33m(\u001b[0m\u001b[0mnum_iterations\u001b[0m\u001b[1;33m)\u001b[0m\u001b[1;33m:\u001b[0m\u001b[1;33m\u001b[0m\u001b[1;33m\u001b[0m\u001b[0m\n\u001b[0;32m      7\u001b[0m     \u001b[0msa_spikes\u001b[0m\u001b[1;33m,\u001b[0m \u001b[0mra_spikes\u001b[0m \u001b[1;33m=\u001b[0m \u001b[0msnn\u001b[0m\u001b[1;33m(\u001b[0m\u001b[0mstimulation\u001b[0m\u001b[1;33m)\u001b[0m\u001b[1;33m\u001b[0m\u001b[1;33m\u001b[0m\u001b[0m\n\u001b[1;32m----> 8\u001b[1;33m     \u001b[0msa_spikes_2d_list\u001b[0m\u001b[1;33m.\u001b[0m\u001b[0mappend\u001b[0m\u001b[1;33m(\u001b[0m\u001b[0msa_spikes\u001b[0m\u001b[1;33m.\u001b[0m\u001b[0mreshape\u001b[0m\u001b[1;33m(\u001b[0m\u001b[0msa_rf_dim\u001b[0m\u001b[1;33m)\u001b[0m\u001b[1;33m)\u001b[0m\u001b[1;33m\u001b[0m\u001b[1;33m\u001b[0m\u001b[0m\n\u001b[0m\u001b[0;32m      9\u001b[0m     \u001b[0mra_spikes_2d_list\u001b[0m\u001b[1;33m.\u001b[0m\u001b[0mappend\u001b[0m\u001b[1;33m(\u001b[0m\u001b[0mra_spikes\u001b[0m\u001b[1;33m.\u001b[0m\u001b[0mreshape\u001b[0m\u001b[1;33m(\u001b[0m\u001b[0mra_rf_dim\u001b[0m\u001b[1;33m)\u001b[0m\u001b[1;33m)\u001b[0m\u001b[1;33m\u001b[0m\u001b[1;33m\u001b[0m\u001b[0m\n\u001b[0;32m     10\u001b[0m \u001b[1;33m\u001b[0m\u001b[0m\n",
      "\u001b[1;31mNameError\u001b[0m: name 'sa_rf_dim' is not defined"
     ]
    }
   ],
   "source": [
    "# Instantiate the SNN\n",
    "snn = SNN()\n",
    "\n",
    "# Lists to store spikes for each iteration in 2D shape\n",
    "sa_spikes_2d_list = []\n",
    "ra_spikes_2d_list = []\n",
    "\n",
    "# Iterate the stimulus through the SNN 100 times\n",
    "for _ in range(num_iterations):\n",
    "    sa_spikes, ra_spikes = snn(stimulation)\n",
    "    sa_spikes_2d_list.append(sa_spikes.reshape(sa_rf_dim))\n",
    "    ra_spikes_2d_list.append(ra_spikes.reshape(ra_rf_dim))\n",
    "\n",
    "# Convert lists to tensors\n",
    "sa_spikes_2d_tensor = torch.stack(sa_spikes_2d_list)\n",
    "ra_spikes_2d_tensor = torch.stack(ra_spikes_2d_list)\n",
    "\n",
    "# Calculate the average firing rate for 2D grid\n",
    "sa_firing_rate_2d = sa_spikes_2d_tensor.mean(dim=0)\n",
    "ra_firing_rate_2d = ra_spikes_2d_tensor.mean(dim=0)\n",
    "\n",
    "# Visualizing the 2D firing rates as heatmaps\n",
    "plt.figure(figsize=(12, 5))\n",
    "\n",
    "plt.subplot(1, 2, 1)\n",
    "plt.imshow(sa_firing_rate_2d, cmap='hot', interpolation='nearest')\n",
    "plt.colorbar(label='Firing Rate')\n",
    "plt.title('SA Firing Rate Heatmap')\n",
    "plt.xlabel('X Coordinate')\n",
    "plt.ylabel('Y Coordinate')\n",
    "\n",
    "plt.subplot(1, 2, 2)\n",
    "plt.imshow(ra_firing_rate_2d, cmap='hot', interpolation='nearest')\n",
    "plt.colorbar(label='Firing Rate')\n",
    "plt.title('RA Firing Rate Heatmap')\n",
    "plt.xlabel('X Coordinate')\n",
    "plt.ylabel('Y Coordinate')\n",
    "\n",
    "plt.tight_layout()\n",
    "plt.show()"
   ]
  }
 ],
 "metadata": {
  "kernelspec": {
   "display_name": "pytorch-CUDA10.1",
   "language": "python",
   "name": "python3"
  },
  "language_info": {
   "codemirror_mode": {
    "name": "ipython",
    "version": 3
   },
   "file_extension": ".py",
   "mimetype": "text/x-python",
   "name": "python",
   "nbconvert_exporter": "python",
   "pygments_lexer": "ipython3",
   "version": "3.6.13"
  }
 },
 "nbformat": 4,
 "nbformat_minor": 2
}
